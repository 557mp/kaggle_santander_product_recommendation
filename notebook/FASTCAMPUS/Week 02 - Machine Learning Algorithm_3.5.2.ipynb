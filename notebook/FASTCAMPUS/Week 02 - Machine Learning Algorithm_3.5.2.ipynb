{
 "cells": [
  {
   "cell_type": "markdown",
   "metadata": {},
   "source": [
    "## 머신러닝 알고리즘 - 기본\n",
    "\n",
    "    - 정제된 데이터 기반 최종 전처리 (LabelEncode)\n",
    "    - 검증 데이터 기반 평가 (훈련 데이터, 검증 데이터 점수 비교)\n",
    "    - 결과 이해하기\n",
    "    - 모델 매개변수 이해하기\n",
    "    - 주요 변수 이해하기 및 시각화\n",
    "    - [+1] 피쳐 엔지니어링 (데이터)\n",
    "    - [+1] 매개변수 최적화 (모델)\n",
    "    - 캐글에 직접 결과물 제출하기\n",
    "    \n",
    "    필요 데이터 (1주차 스크립트 결과물, 필요시 드롭박스 링크 통해 다운로드 받을 수 있습니다.)\n",
    "    - train.csv\n",
    "    - train_clean.csv\n",
    "    - test_clean.csv"
   ]
  },
  {
   "cell_type": "code",
   "execution_count": 27,
   "metadata": {
    "collapsed": true
   },
   "outputs": [],
   "source": [
    "import pandas as pd\n",
    "import numpy as np\n",
    "import time\n",
    "import operator\n",
    "from sklearn.preprocessing import LabelEncoder\n",
    "from sklearn.model_selection import StratifiedShuffleSplit\n",
    "from sklearn.metrics import log_loss, f1_score, accuracy_score\n",
    "\n",
    "import matplotlib.pyplot as plt\n",
    "%matplotlib inline\n",
    "import seaborn as sns"
   ]
  },
  {
   "cell_type": "markdown",
   "metadata": {},
   "source": [
    "## 데이터 최종 전처리\n",
    "    - 변수형 확인 (object 형 > 정수형으로 변환)\n",
    "    - 빈도가 너무 낮은 (<10) 라벨값 제거하기"
   ]
  },
  {
   "cell_type": "code",
   "execution_count": 28,
   "metadata": {
    "collapsed": false
   },
   "outputs": [
    {
     "name": "stdout",
     "output_type": "stream",
     "text": [
      "(45619, 22) (45619, 1) (929615, 22)\n"
     ]
    }
   ],
   "source": [
    "# load data\n",
    "trn = pd.read_csv('../input/train_clean.csv')\n",
    "target = pd.read_csv('../input/train.csv', usecols=['target'])\n",
    "tst = pd.read_csv('../input/test_clean.csv')\n",
    "test_id = tst['ncodpers']\n",
    "tst.drop(['ncodpers'], axis=1, inplace=True)\n",
    "trn.drop(['ncodpers'], axis=1, inplace=True)\n",
    "print(trn.shape, target.shape, tst.shape)"
   ]
  },
  {
   "cell_type": "code",
   "execution_count": 29,
   "metadata": {
    "collapsed": false
   },
   "outputs": [
    {
     "name": "stdout",
     "output_type": "stream",
     "text": [
      "<class 'pandas.core.frame.DataFrame'>\n",
      "RangeIndex: 45619 entries, 0 to 45618\n",
      "Data columns (total 22 columns):\n",
      "fecha_dato               45619 non-null object\n",
      "ind_empleado             45619 non-null object\n",
      "pais_residencia          45619 non-null object\n",
      "sexo                     45619 non-null object\n",
      "age                      45619 non-null int64\n",
      "fecha_alta               45619 non-null object\n",
      "ind_nuevo                45619 non-null int64\n",
      "antiguedad               45619 non-null int64\n",
      "indrel                   45619 non-null int64\n",
      "ult_fec_cli_1t           45619 non-null object\n",
      "indrel_1mes              45619 non-null int64\n",
      "tiprel_1mes              45619 non-null object\n",
      "indresi                  45619 non-null object\n",
      "indext                   45619 non-null object\n",
      "conyuemp                 45619 non-null object\n",
      "canal_entrada            45619 non-null object\n",
      "indfall                  45619 non-null object\n",
      "cod_prov                 45619 non-null int64\n",
      "nomprov                  45619 non-null object\n",
      "ind_actividad_cliente    45619 non-null int64\n",
      "renta                    45619 non-null float64\n",
      "segmento                 45619 non-null object\n",
      "dtypes: float64(1), int64(7), object(14)\n",
      "memory usage: 7.7+ MB\n",
      "<class 'pandas.core.frame.DataFrame'>\n",
      "RangeIndex: 45619 entries, 0 to 45618\n",
      "Data columns (total 1 columns):\n",
      "target    45619 non-null int64\n",
      "dtypes: int64(1)\n",
      "memory usage: 356.5 KB\n",
      "<class 'pandas.core.frame.DataFrame'>\n",
      "RangeIndex: 929615 entries, 0 to 929614\n",
      "Data columns (total 22 columns):\n",
      "fecha_dato               929615 non-null object\n",
      "ind_empleado             929615 non-null object\n",
      "pais_residencia          929615 non-null object\n",
      "sexo                     929615 non-null object\n",
      "age                      929615 non-null int64\n",
      "fecha_alta               929615 non-null object\n",
      "ind_nuevo                929615 non-null int64\n",
      "antiguedad               929615 non-null int64\n",
      "indrel                   929615 non-null int64\n",
      "ult_fec_cli_1t           929615 non-null object\n",
      "indrel_1mes              929615 non-null int64\n",
      "tiprel_1mes              929615 non-null object\n",
      "indresi                  929615 non-null object\n",
      "indext                   929615 non-null object\n",
      "conyuemp                 929615 non-null object\n",
      "canal_entrada            929615 non-null object\n",
      "indfall                  929615 non-null object\n",
      "cod_prov                 929615 non-null int64\n",
      "nomprov                  929615 non-null object\n",
      "ind_actividad_cliente    929615 non-null int64\n",
      "renta                    929615 non-null float64\n",
      "segmento                 929615 non-null object\n",
      "dtypes: float64(1), int64(7), object(14)\n",
      "memory usage: 156.0+ MB\n",
      "None None None\n"
     ]
    }
   ],
   "source": [
    "print(trn.info(), target.info(), tst.info())"
   ]
  },
  {
   "cell_type": "code",
   "execution_count": 30,
   "metadata": {
    "collapsed": false
   },
   "outputs": [
    {
     "data": {
      "text/plain": [
       "array([ True,  True,  True,  True,  True,  True,  True,  True,  True,\n",
       "        True,  True,  True,  True,  True,  True,  True,  True,  True,\n",
       "        True,  True,  True,  True], dtype=bool)"
      ]
     },
     "execution_count": 30,
     "metadata": {},
     "output_type": "execute_result"
    }
   ],
   "source": [
    "# check columns\n",
    "trn.columns == tst.columns"
   ]
  },
  {
   "cell_type": "code",
   "execution_count": 31,
   "metadata": {
    "collapsed": false
   },
   "outputs": [
    {
     "name": "stdout",
     "output_type": "stream",
     "text": [
      "fecha_dato\n",
      "ind_empleado\n",
      "pais_residencia\n",
      "sexo\n",
      "fecha_alta\n",
      "ult_fec_cli_1t\n",
      "tiprel_1mes\n",
      "indresi\n",
      "indext\n",
      "conyuemp\n",
      "canal_entrada\n",
      "indfall\n",
      "nomprov\n",
      "segmento\n"
     ]
    }
   ],
   "source": [
    "# print columns with object type\n",
    "for col in trn.columns:\n",
    "    if trn[col].dtype == 'object':\n",
    "        print(col)"
   ]
  },
  {
   "cell_type": "code",
   "execution_count": 32,
   "metadata": {
    "collapsed": true
   },
   "outputs": [],
   "source": [
    "# convert object type into int\n",
    "for col in trn.columns:\n",
    "    if trn[col].dtype == 'object':\n",
    "        lb = LabelEncoder()\n",
    "        lb.fit(pd.concat([trn[col],tst[col]]))\n",
    "        trn[col] = lb.transform(trn[col])\n",
    "        tst[col] = lb.transform(tst[col])"
   ]
  },
  {
   "cell_type": "code",
   "execution_count": 33,
   "metadata": {
    "collapsed": false
   },
   "outputs": [
    {
     "name": "stdout",
     "output_type": "stream",
     "text": [
      "fecha_dato int64 int64\n",
      "ind_empleado int64 int64\n",
      "pais_residencia int64 int64\n",
      "sexo int64 int64\n",
      "age int64 int64\n",
      "fecha_alta int64 int64\n",
      "ind_nuevo int64 int64\n",
      "antiguedad int64 int64\n",
      "indrel int64 int64\n",
      "ult_fec_cli_1t int64 int64\n",
      "indrel_1mes int64 int64\n",
      "tiprel_1mes int64 int64\n",
      "indresi int64 int64\n",
      "indext int64 int64\n",
      "conyuemp int64 int64\n",
      "canal_entrada int64 int64\n",
      "indfall int64 int64\n",
      "cod_prov int64 int64\n",
      "nomprov int64 int64\n",
      "ind_actividad_cliente int64 int64\n",
      "renta float64 float64\n",
      "segmento int64 int64\n"
     ]
    }
   ],
   "source": [
    "# check column types\n",
    "for col in trn.columns:\n",
    "    print(col, trn[col].dtype, tst[col].dtype)"
   ]
  },
  {
   "cell_type": "code",
   "execution_count": 34,
   "metadata": {
    "collapsed": false
   },
   "outputs": [
    {
     "name": "stdout",
     "output_type": "stream",
     "text": [
      "2 9452\n",
      "3 9\n",
      "4 1934\n",
      "5 55\n",
      "6 349\n",
      "7 222\n",
      "8 154\n",
      "9 503\n",
      "10 33\n",
      "11 1085\n",
      "12 1219\n",
      "13 246\n",
      "14 4\n",
      "15 21\n",
      "16 8\n",
      "17 2942\n",
      "18 4733\n",
      "19 159\n",
      "20 3\n",
      "21 5151\n",
      "22 8218\n",
      "23 9119\n"
     ]
    }
   ],
   "source": [
    "# check unique target count\n",
    "for t in np.unique(target):\n",
    "    print(t, sum(target['target']==t))"
   ]
  },
  {
   "cell_type": "code",
   "execution_count": 35,
   "metadata": {
    "collapsed": false
   },
   "outputs": [
    {
     "name": "stderr",
     "output_type": "stream",
     "text": [
      "/Library/Frameworks/Python.framework/Versions/3.5/lib/python3.5/site-packages/sklearn/preprocessing/label.py:129: DataConversionWarning: A column-vector y was passed when a 1d array was expected. Please change the shape of y to (n_samples, ), for example using ravel().\n",
      "  y = column_or_1d(y, warn=True)\n"
     ]
    },
    {
     "name": "stdout",
     "output_type": "stream",
     "text": [
      "0 9452\n",
      "1 1934\n",
      "2 55\n",
      "3 349\n",
      "4 222\n",
      "5 154\n",
      "6 503\n",
      "7 33\n",
      "8 1085\n",
      "9 1219\n",
      "10 246\n",
      "11 21\n",
      "12 2942\n",
      "13 4733\n",
      "14 159\n",
      "15 5151\n",
      "16 8218\n",
      "17 9119\n"
     ]
    }
   ],
   "source": [
    "# trim data, removing rows with low_freq target\n",
    "rem_targets = [2, 4, 5, 6, 7, 8, 9, 10, 11, 12, 13, 15, 17, 18, 19, 21, 22, 23]  # 18 classes\n",
    "trn = trn[target['target'].isin(rem_targets)]\n",
    "target = target[target['target'].isin(rem_targets)]\n",
    "target = LabelEncoder().fit_transform(target)\n",
    "\n",
    "for t in np.unique(target):\n",
    "    print(t, sum(target==t))"
   ]
  },
  {
   "cell_type": "markdown",
   "metadata": {},
   "source": [
    "## 평가용 함수 정의"
   ]
  },
  {
   "cell_type": "code",
   "execution_count": 36,
   "metadata": {
    "collapsed": true
   },
   "outputs": [],
   "source": [
    "def evaluate(x, y, model):\n",
    "    trn_scores = dict(); vld_scores = dict()\n",
    "    sss = StratifiedShuffleSplit(n_splits=3, test_size=0.1, random_state=777)\n",
    "    for t_ind, v_ind in sss.split(x,y):\n",
    "        # split data\n",
    "        x_trn, x_vld = x.iloc[t_ind], x.iloc[v_ind]\n",
    "        y_trn, y_vld = y[t_ind], y[v_ind]\n",
    "\n",
    "        # fit model\n",
    "        model.fit(x_trn, y_trn)\n",
    "        \n",
    "        # eval _ trn\n",
    "        preds = model.predict(x_trn)\n",
    "        acc_scores = trn_scores.get('accuracy', [])\n",
    "        acc_scores.append(accuracy_score(y_trn, preds))\n",
    "        trn_scores['accuracy'] = acc_scores\n",
    "\n",
    "        f1_scores = trn_scores.get('f1 score', [])\n",
    "        f1_scores.append(f1_score(y_trn, preds, average='weighted'))\n",
    "        trn_scores['f1 score'] = f1_scores\n",
    "        \n",
    "        preds = model.predict_proba(x_trn)\n",
    "\n",
    "        log_scores = trn_scores.get('log loss', [])\n",
    "        log_scores.append(log_loss(y_trn, preds))\n",
    "        trn_scores['log loss'] = log_scores\n",
    "\n",
    "        # eval _ vld\n",
    "        preds = model.predict(x_vld)\n",
    "        acc_scores = vld_scores.get('accuracy', [])\n",
    "        acc_scores.append(accuracy_score(y_vld, preds))\n",
    "        vld_scores['accuracy'] = acc_scores\n",
    "\n",
    "        f1_scores = vld_scores.get('f1 score', [])\n",
    "        f1_scores.append(f1_score(y_vld, preds, average='weighted'))\n",
    "        vld_scores['f1 score'] = f1_scores\n",
    "        \n",
    "        preds = model.predict_proba(x_vld)\n",
    "\n",
    "        log_scores = vld_scores.get('log loss', [])\n",
    "        log_scores.append(log_loss(y_vld, preds))\n",
    "        vld_scores['log loss'] = log_scores\n",
    "    return trn_scores, vld_scores\n",
    "\n",
    "def print_scores(trn_scores, vld_scores):\n",
    "    prefix = '        '\n",
    "    cols = ['accuracy', 'f1 score','log loss']\n",
    "    print('='*50)\n",
    "    print('TRAIN EVAL')\n",
    "    for col in cols:\n",
    "        print('-'*50)\n",
    "        print('# {}'.format(col))\n",
    "        print('# {} Mean : {}'.format(prefix, np.mean(trn_scores[col])))\n",
    "        print('# {} Raw  : {}'.format(prefix, trn_scores[col]))\n",
    "\n",
    "    print('='*50)\n",
    "    print('VALID EVAL')\n",
    "    for col in cols:\n",
    "        print('-'*50)\n",
    "        print('# {}'.format(col))\n",
    "        print('# {} Mean : {}'.format(prefix, np.mean(vld_scores[col])))\n",
    "        print('# {} Raw  : {}'.format(prefix, vld_scores[col]))\n",
    "\n",
    "def print_time(end, start):\n",
    "    print('='*50)\n",
    "    elapsed = end - start\n",
    "    print('{} secs'.format(round(elapsed)))\n",
    "    \n",
    "def fit_and_eval(trn, target, model):\n",
    "    trn_scores, vld_scores = evaluate(trn,target,model)\n",
    "    print_scores(trn_scores, vld_scores)\n",
    "    print_time(time.time(), st)    "
   ]
  },
  {
   "cell_type": "markdown",
   "metadata": {},
   "source": [
    "## 모델 학습 및 평가\n",
    "    - 모델 종류\n",
    "        - Decision Tree : 트리 기반 모델\n",
    "        - Logistic Regression : 선형 모델\n",
    "        - Naive Bayesian : 베이지안 모델\n",
    "        - K-Nearest Neighbors : k-최근접 이웃 모델\n",
    "\n",
    "    - 훈련 데이터 기반 평가 척도\n",
    "        - 정확도 (accuracy)\n",
    "        - F1 Score\n",
    "        - Log Loss\n",
    "    - 검증 데이터 기반 평가 척도 (위와 동일)"
   ]
  },
  {
   "cell_type": "code",
   "execution_count": 65,
   "metadata": {
    "collapsed": false
   },
   "outputs": [
    {
     "name": "stderr",
     "output_type": "stream",
     "text": [
      "/Library/Frameworks/Python.framework/Versions/3.5/lib/python3.5/site-packages/sklearn/metrics/classification.py:1113: UndefinedMetricWarning: F-score is ill-defined and being set to 0.0 in labels with no predicted samples.\n",
      "  'precision', 'predicted', average, warn_for)\n"
     ]
    },
    {
     "name": "stdout",
     "output_type": "stream",
     "text": [
      "==================================================\n",
      "TRAIN EVAL\n",
      "--------------------------------------------------\n",
      "# accuracy\n",
      "#          Mean : 0.2988586978595508\n",
      "#          Raw  : [0.29759961008894847, 0.29884245156573658, 0.30013403192396737]\n",
      "--------------------------------------------------\n",
      "# f1 score\n",
      "#          Mean : 0.23402301259625738\n",
      "#          Raw  : [0.23266070803540992, 0.23386366820510057, 0.2355446615482617]\n",
      "--------------------------------------------------\n",
      "# log loss\n",
      "#          Mean : 1.9279162902206635\n",
      "#          Raw  : [1.9290720801895347, 1.9282930112300749, 1.9263837792423815]\n",
      "==================================================\n",
      "VALID EVAL\n",
      "--------------------------------------------------\n",
      "# accuracy\n",
      "#          Mean : 0.29839181286549704\n",
      "#          Raw  : [0.29890350877192984, 0.29671052631578948, 0.29956140350877192]\n",
      "--------------------------------------------------\n",
      "# f1 score\n",
      "#          Mean : 0.23359897250630945\n",
      "#          Raw  : [0.23436285017678818, 0.23276042675386413, 0.23367364058827608]\n",
      "--------------------------------------------------\n",
      "# log loss\n",
      "#          Mean : 1.9701302848096611\n",
      "#          Raw  : [1.9692374682822706, 1.9644212109516501, 1.9767321751950624]\n",
      "==================================================\n",
      "1 secs\n"
     ]
    }
   ],
   "source": [
    "st = time.time()\n",
    "from sklearn.tree import DecisionTreeClassifier\n",
    "\n",
    "model = DecisionTreeClassifier(max_depth=5,random_state=777)\n",
    "fit_and_eval(trn, target, model)\n",
    "# 2 sec"
   ]
  },
  {
   "cell_type": "code",
   "execution_count": 38,
   "metadata": {
    "collapsed": false
   },
   "outputs": [
    {
     "name": "stderr",
     "output_type": "stream",
     "text": [
      "/Library/Frameworks/Python.framework/Versions/3.5/lib/python3.5/site-packages/sklearn/metrics/classification.py:1113: UndefinedMetricWarning: F-score is ill-defined and being set to 0.0 in labels with no predicted samples.\n",
      "  'precision', 'predicted', average, warn_for)\n"
     ]
    },
    {
     "name": "stdout",
     "output_type": "stream",
     "text": [
      "==================================================\n",
      "TRAIN EVAL\n",
      "--------------------------------------------------\n",
      "# accuracy\n",
      "#          Mean : 0.26795824702489746\n",
      "#          Raw  : [0.26694285366150849, 0.26721091750944315, 0.26972096990374073]\n",
      "--------------------------------------------------\n",
      "# f1 score\n",
      "#          Mean : 0.19090613644340346\n",
      "#          Raw  : [0.18789881249870152, 0.1905993726288028, 0.19422022420270599]\n",
      "--------------------------------------------------\n",
      "# log loss\n",
      "#          Mean : 2.0235229153662657\n",
      "#          Raw  : [2.0237777997135376, 2.0243527818881941, 2.0224381644970659]\n",
      "==================================================\n",
      "VALID EVAL\n",
      "--------------------------------------------------\n",
      "# accuracy\n",
      "#          Mean : 0.26374269005847956\n",
      "#          Raw  : [0.26403508771929823, 0.26491228070175438, 0.26228070175438595]\n",
      "--------------------------------------------------\n",
      "# f1 score\n",
      "#          Mean : 0.186729260938859\n",
      "#          Raw  : [0.18391912012372935, 0.18744320021963495, 0.18882546247321272]\n",
      "--------------------------------------------------\n",
      "# log loss\n",
      "#          Mean : 2.0242906717357285\n",
      "#          Raw  : [2.0174861168938749, 2.0250721052414584, 2.0303137930718509]\n",
      "==================================================\n",
      "50 secs\n"
     ]
    }
   ],
   "source": [
    "st = time.time()\n",
    "from sklearn.linear_model import LogisticRegression\n",
    "\n",
    "model = LogisticRegression(n_jobs=-1, random_state=777)\n",
    "fit_and_eval(trn, target, model)\n",
    "# 58 sec"
   ]
  },
  {
   "cell_type": "code",
   "execution_count": 39,
   "metadata": {
    "collapsed": false
   },
   "outputs": [
    {
     "name": "stderr",
     "output_type": "stream",
     "text": [
      "/Library/Frameworks/Python.framework/Versions/3.5/lib/python3.5/site-packages/sklearn/metrics/classification.py:1113: UndefinedMetricWarning: F-score is ill-defined and being set to 0.0 in labels with no predicted samples.\n",
      "  'precision', 'predicted', average, warn_for)\n"
     ]
    },
    {
     "name": "stdout",
     "output_type": "stream",
     "text": [
      "==================================================\n",
      "TRAIN EVAL\n",
      "--------------------------------------------------\n",
      "# accuracy\n",
      "#          Mean : 0.20831810243288248\n",
      "#          Raw  : [0.20899232362617279, 0.21004020957719019, 0.2059217740952845]\n",
      "--------------------------------------------------\n",
      "# f1 score\n",
      "#          Mean : 0.16298665004818635\n",
      "#          Raw  : [0.16192551527559029, 0.17112682182514397, 0.15590761304382481]\n",
      "--------------------------------------------------\n",
      "# log loss\n",
      "#          Mean : 2.429744359232718\n",
      "#          Raw  : [2.4326534875420545, 2.4190425768489856, 2.4375370133071148]\n",
      "==================================================\n",
      "VALID EVAL\n",
      "--------------------------------------------------\n",
      "# accuracy\n",
      "#          Mean : 0.20292397660818715\n",
      "#          Raw  : [0.21030701754385964, 0.20219298245614034, 0.1962719298245614]\n",
      "--------------------------------------------------\n",
      "# f1 score\n",
      "#          Mean : 0.15859571575030967\n",
      "#          Raw  : [0.16340829060730833, 0.16189284069864562, 0.15048601594497507]\n",
      "--------------------------------------------------\n",
      "# log loss\n",
      "#          Mean : 2.436364938022608\n",
      "#          Raw  : [2.4435784034148869, 2.4140406035268338, 2.4514758071261018]\n",
      "==================================================\n",
      "1 secs\n"
     ]
    }
   ],
   "source": [
    "st = time.time()\n",
    "from sklearn.naive_bayes import GaussianNB\n",
    "\n",
    "model = GaussianNB()\n",
    "fit_and_eval(trn, target, model)\n",
    "# 2 sec"
   ]
  },
  {
   "cell_type": "code",
   "execution_count": 40,
   "metadata": {
    "collapsed": false
   },
   "outputs": [
    {
     "name": "stderr",
     "output_type": "stream",
     "text": [
      "/Library/Frameworks/Python.framework/Versions/3.5/lib/python3.5/site-packages/sklearn/metrics/classification.py:1113: UndefinedMetricWarning: F-score is ill-defined and being set to 0.0 in labels with no predicted samples.\n",
      "  'precision', 'predicted', average, warn_for)\n"
     ]
    },
    {
     "name": "stdout",
     "output_type": "stream",
     "text": [
      "==================================================\n",
      "TRAIN EVAL\n",
      "--------------------------------------------------\n",
      "# accuracy\n",
      "#          Mean : 0.41453230981682304\n",
      "#          Raw  : [0.41371999512611185, 0.41481661995857194, 0.41506031436578533]\n",
      "--------------------------------------------------\n",
      "# f1 score\n",
      "#          Mean : 0.39576676268003524\n",
      "#          Raw  : [0.39502009040889918, 0.39601347575816598, 0.39626672187304063]\n",
      "--------------------------------------------------\n",
      "# log loss\n",
      "#          Mean : 1.2295623790258723\n",
      "#          Raw  : [1.2288679789508321, 1.2305374409657581, 1.2292817171610269]\n",
      "==================================================\n",
      "VALID EVAL\n",
      "--------------------------------------------------\n",
      "# accuracy\n",
      "#          Mean : 0.18223684210526314\n",
      "#          Raw  : [0.18552631578947368, 0.17697368421052631, 0.18421052631578946]\n",
      "--------------------------------------------------\n",
      "# f1 score\n",
      "#          Mean : 0.15890790309705174\n",
      "#          Raw  : [0.16173921385084236, 0.15302222179503969, 0.16196227364527324]\n",
      "--------------------------------------------------\n",
      "# log loss\n",
      "#          Mean : 17.025307168503446\n",
      "#          Raw  : [16.99644389867332, 17.105201957067269, 16.974275649769748]\n",
      "==================================================\n",
      "4 secs\n"
     ]
    }
   ],
   "source": [
    "st = time.time()\n",
    "from sklearn.neighbors import KNeighborsClassifier\n",
    "\n",
    "model = KNeighborsClassifier(n_jobs=-1)\n",
    "fit_and_eval(trn, target, model)\n",
    "# 2 sec"
   ]
  },
  {
   "cell_type": "markdown",
   "metadata": {},
   "source": [
    "## 모델 매개변수 및 주요 변수 시각화 (1)\n",
    "    - Decision Tree Classifier 전용\n",
    "    - Decision Tree 모델에서 fit 함수 적용 후, 아래 코드 에러 없이 실행 가능"
   ]
  },
  {
   "cell_type": "code",
   "execution_count": 43,
   "metadata": {
    "collapsed": false
   },
   "outputs": [],
   "source": [
    "# Utility\n",
    "\n",
    "def observe_model_dt(model):\n",
    "    print('='*50)\n",
    "    print(model)\n",
    "    \n",
    "    print('='*50)\n",
    "    print('# Feature Importance')\n",
    "    print(model.feature_importances_)\n",
    "    \n",
    "    print('-'*50)\n",
    "    print('# Mapped to Column Name')\n",
    "    prefix = '    '\n",
    "    feature_importance = dict()\n",
    "    for i, f_imp in enumerate(model.feature_importances_):\n",
    "        print('{} {} \\t {}'.format(prefix, round(f_imp,5), trn.columns[i]))\n",
    "        feature_importance[trn.columns[i]] = f_imp\n",
    "\n",
    "    print('-'*50)\n",
    "    print('# Sorted Feature Importance')\n",
    "    feature_importance_sorted = sorted(feature_importance.items(), key=operator.itemgetter(1), reverse=True)\n",
    "    for item in feature_importance_sorted:\n",
    "        print('{} {} \\t {}'.format(prefix, round(item[1],5), item[0]))\n",
    "    \n",
    "    return feature_importance_sorted\n",
    "\n",
    "def plot_fimp(fimp):\n",
    "    x = []; y = []\n",
    "    for item in fimp:\n",
    "        x.append(item[0])\n",
    "        y.append(item[1])\n",
    "\n",
    "    f, ax = plt.subplots(figsize=(20, 15))\n",
    "    sns.barplot(x,y,alpha=0.5)\n",
    "    ax.set_title('Feature Importance for Model : Decision Tree')\n",
    "    ax.set(xlabel='Column Name', ylabel='Feature Importance')"
   ]
  },
  {
   "cell_type": "code",
   "execution_count": 44,
   "metadata": {
    "collapsed": false
   },
   "outputs": [
    {
     "name": "stdout",
     "output_type": "stream",
     "text": [
      "==================================================\n",
      "KNeighborsClassifier(algorithm='auto', leaf_size=30, metric='minkowski',\n",
      "           metric_params=None, n_jobs=-1, n_neighbors=5, p=2,\n",
      "           weights='uniform')\n",
      "==================================================\n",
      "# Feature Importance\n"
     ]
    },
    {
     "ename": "AttributeError",
     "evalue": "'KNeighborsClassifier' object has no attribute 'feature_importances'",
     "output_type": "error",
     "traceback": [
      "\u001b[0;31m---------------------------------------------------------------------------\u001b[0m",
      "\u001b[0;31mAttributeError\u001b[0m                            Traceback (most recent call last)",
      "\u001b[0;32m<ipython-input-44-faa4827c67e3>\u001b[0m in \u001b[0;36m<module>\u001b[0;34m()\u001b[0m\n\u001b[1;32m      1\u001b[0m \u001b[0;31m# 모델 상세 보기\u001b[0m\u001b[0;34m\u001b[0m\u001b[0;34m\u001b[0m\u001b[0m\n\u001b[0;32m----> 2\u001b[0;31m \u001b[0mfimp\u001b[0m \u001b[0;34m=\u001b[0m \u001b[0mobserve_model_dt\u001b[0m\u001b[0;34m(\u001b[0m\u001b[0mmodel\u001b[0m\u001b[0;34m)\u001b[0m\u001b[0;34m\u001b[0m\u001b[0m\n\u001b[0m",
      "\u001b[0;32m<ipython-input-43-818cd78e0b7a>\u001b[0m in \u001b[0;36mobserve_model_dt\u001b[0;34m(model)\u001b[0m\n\u001b[1;32m      7\u001b[0m     \u001b[0mprint\u001b[0m\u001b[0;34m(\u001b[0m\u001b[0;34m'='\u001b[0m\u001b[0;34m*\u001b[0m\u001b[0;36m50\u001b[0m\u001b[0;34m)\u001b[0m\u001b[0;34m\u001b[0m\u001b[0m\n\u001b[1;32m      8\u001b[0m     \u001b[0mprint\u001b[0m\u001b[0;34m(\u001b[0m\u001b[0;34m'# Feature Importance'\u001b[0m\u001b[0;34m)\u001b[0m\u001b[0;34m\u001b[0m\u001b[0m\n\u001b[0;32m----> 9\u001b[0;31m     \u001b[0mprint\u001b[0m\u001b[0;34m(\u001b[0m\u001b[0mmodel\u001b[0m\u001b[0;34m.\u001b[0m\u001b[0mfeature_importances\u001b[0m\u001b[0;34m)\u001b[0m\u001b[0;34m\u001b[0m\u001b[0m\n\u001b[0m\u001b[1;32m     10\u001b[0m \u001b[0;34m\u001b[0m\u001b[0m\n\u001b[1;32m     11\u001b[0m     \u001b[0mprint\u001b[0m\u001b[0;34m(\u001b[0m\u001b[0;34m'-'\u001b[0m\u001b[0;34m*\u001b[0m\u001b[0;36m50\u001b[0m\u001b[0;34m)\u001b[0m\u001b[0;34m\u001b[0m\u001b[0m\n",
      "\u001b[0;31mAttributeError\u001b[0m: 'KNeighborsClassifier' object has no attribute 'feature_importances'"
     ]
    }
   ],
   "source": [
    "# 모델 상세 보기\n",
    "fimp = observe_model_dt(model)"
   ]
  },
  {
   "cell_type": "code",
   "execution_count": 45,
   "metadata": {
    "collapsed": false
   },
   "outputs": [
    {
     "ename": "NameError",
     "evalue": "name 'fimp' is not defined",
     "output_type": "error",
     "traceback": [
      "\u001b[0;31m---------------------------------------------------------------------------\u001b[0m",
      "\u001b[0;31mNameError\u001b[0m                                 Traceback (most recent call last)",
      "\u001b[0;32m<ipython-input-45-d94fafe4a137>\u001b[0m in \u001b[0;36m<module>\u001b[0;34m()\u001b[0m\n\u001b[1;32m      1\u001b[0m \u001b[0;31m# 주요 변수 시각화\u001b[0m\u001b[0;34m\u001b[0m\u001b[0;34m\u001b[0m\u001b[0m\n\u001b[0;32m----> 2\u001b[0;31m \u001b[0mplot_fimp\u001b[0m\u001b[0;34m(\u001b[0m\u001b[0mfimp\u001b[0m\u001b[0;34m)\u001b[0m\u001b[0;34m\u001b[0m\u001b[0m\n\u001b[0m",
      "\u001b[0;31mNameError\u001b[0m: name 'fimp' is not defined"
     ]
    }
   ],
   "source": [
    "# 주요 변수 시각화\n",
    "plot_fimp(fimp)"
   ]
  },
  {
   "cell_type": "markdown",
   "metadata": {},
   "source": [
    "## 모델 매개변수 및 주요 변수 시각화 (2)\n",
    "    - LogisticRegression 전용\n",
    "    - LogisticRegression 모델에서 fit 함수 적용 후, 아래 코드 에러 없이 실행 가능"
   ]
  },
  {
   "cell_type": "code",
   "execution_count": 46,
   "metadata": {
    "collapsed": false
   },
   "outputs": [],
   "source": [
    "# Utility\n",
    "\n",
    "def observe_model_lr(model):\n",
    "    target_num = 0\n",
    "    print('='*50)\n",
    "    print(model)\n",
    "    \n",
    "    print('='*50)\n",
    "    print('# Coefficients for target_num == {}'.format(target_num))\n",
    "    print(model.coef_[target_num])\n",
    "    \n",
    "    print('-'*50)\n",
    "    print('# Mapped to Column Name')\n",
    "    prefix = '    '\n",
    "    coefs = dict()\n",
    "    for i, coef in enumerate(model.coef_[target_num]):\n",
    "        print('{} {} \\t {}'.format(prefix, round(coef,5), trn.columns[i]))\n",
    "        coefs[trn.columns[i]] = np.absolute(coef)\n",
    "\n",
    "    print('-'*50)\n",
    "    print('# Sorted Feature Importance')\n",
    "    coefs_sorted = sorted(coefs.items(), key=operator.itemgetter(1), reverse=True)\n",
    "    for item in coefs_sorted:\n",
    "        print('{} {} \\t {}'.format(prefix, round(item[1],5), item[0]))\n",
    "    \n",
    "    return coefs_sorted\n",
    "\n",
    "def plot_coef(coef):\n",
    "    x = []; y = []\n",
    "    for item in coef:\n",
    "        x.append(item[0])\n",
    "        y.append(item[1])\n",
    "\n",
    "    f, ax = plt.subplots(figsize=(20, 15))\n",
    "    sns.barplot(x,y,alpha=0.5)\n",
    "    ax.set_title('Feature Importance for Model : Logistic Regression')\n",
    "    ax.set(xlabel='Column Name', ylabel='Feature Importance')"
   ]
  },
  {
   "cell_type": "code",
   "execution_count": 47,
   "metadata": {
    "collapsed": false
   },
   "outputs": [
    {
     "name": "stdout",
     "output_type": "stream",
     "text": [
      "==================================================\n",
      "KNeighborsClassifier(algorithm='auto', leaf_size=30, metric='minkowski',\n",
      "           metric_params=None, n_jobs=-1, n_neighbors=5, p=2,\n",
      "           weights='uniform')\n",
      "==================================================\n",
      "# Coefficients for target_num == 0\n"
     ]
    },
    {
     "ename": "AttributeError",
     "evalue": "'KNeighborsClassifier' object has no attribute 'coef_'",
     "output_type": "error",
     "traceback": [
      "\u001b[0;31m---------------------------------------------------------------------------\u001b[0m",
      "\u001b[0;31mAttributeError\u001b[0m                            Traceback (most recent call last)",
      "\u001b[0;32m<ipython-input-47-0e8e26509224>\u001b[0m in \u001b[0;36m<module>\u001b[0;34m()\u001b[0m\n\u001b[1;32m      1\u001b[0m \u001b[0;31m# 모델 상세 보기\u001b[0m\u001b[0;34m\u001b[0m\u001b[0;34m\u001b[0m\u001b[0m\n\u001b[0;32m----> 2\u001b[0;31m \u001b[0mcoef\u001b[0m \u001b[0;34m=\u001b[0m \u001b[0mobserve_model_lr\u001b[0m\u001b[0;34m(\u001b[0m\u001b[0mmodel\u001b[0m\u001b[0;34m)\u001b[0m\u001b[0;34m\u001b[0m\u001b[0m\n\u001b[0m",
      "\u001b[0;32m<ipython-input-46-55344961033c>\u001b[0m in \u001b[0;36mobserve_model_lr\u001b[0;34m(model)\u001b[0m\n\u001b[1;32m      8\u001b[0m     \u001b[0mprint\u001b[0m\u001b[0;34m(\u001b[0m\u001b[0;34m'='\u001b[0m\u001b[0;34m*\u001b[0m\u001b[0;36m50\u001b[0m\u001b[0;34m)\u001b[0m\u001b[0;34m\u001b[0m\u001b[0m\n\u001b[1;32m      9\u001b[0m     \u001b[0mprint\u001b[0m\u001b[0;34m(\u001b[0m\u001b[0;34m'# Coefficients for target_num == {}'\u001b[0m\u001b[0;34m.\u001b[0m\u001b[0mformat\u001b[0m\u001b[0;34m(\u001b[0m\u001b[0mtarget_num\u001b[0m\u001b[0;34m)\u001b[0m\u001b[0;34m)\u001b[0m\u001b[0;34m\u001b[0m\u001b[0m\n\u001b[0;32m---> 10\u001b[0;31m     \u001b[0mprint\u001b[0m\u001b[0;34m(\u001b[0m\u001b[0mmodel\u001b[0m\u001b[0;34m.\u001b[0m\u001b[0mcoef_\u001b[0m\u001b[0;34m[\u001b[0m\u001b[0mtarget_num\u001b[0m\u001b[0;34m]\u001b[0m\u001b[0;34m)\u001b[0m\u001b[0;34m\u001b[0m\u001b[0m\n\u001b[0m\u001b[1;32m     11\u001b[0m \u001b[0;34m\u001b[0m\u001b[0m\n\u001b[1;32m     12\u001b[0m     \u001b[0mprint\u001b[0m\u001b[0;34m(\u001b[0m\u001b[0;34m'-'\u001b[0m\u001b[0;34m*\u001b[0m\u001b[0;36m50\u001b[0m\u001b[0;34m)\u001b[0m\u001b[0;34m\u001b[0m\u001b[0m\n",
      "\u001b[0;31mAttributeError\u001b[0m: 'KNeighborsClassifier' object has no attribute 'coef_'"
     ]
    }
   ],
   "source": [
    "# 모델 상세 보기\n",
    "coef = observe_model_lr(model)"
   ]
  },
  {
   "cell_type": "code",
   "execution_count": 48,
   "metadata": {
    "collapsed": false
   },
   "outputs": [
    {
     "ename": "NameError",
     "evalue": "name 'coef' is not defined",
     "output_type": "error",
     "traceback": [
      "\u001b[0;31m---------------------------------------------------------------------------\u001b[0m",
      "\u001b[0;31mNameError\u001b[0m                                 Traceback (most recent call last)",
      "\u001b[0;32m<ipython-input-48-66cc9feba5ea>\u001b[0m in \u001b[0;36m<module>\u001b[0;34m()\u001b[0m\n\u001b[1;32m      1\u001b[0m \u001b[0;31m# 주요 변수 시각화\u001b[0m\u001b[0;34m\u001b[0m\u001b[0;34m\u001b[0m\u001b[0m\n\u001b[0;32m----> 2\u001b[0;31m \u001b[0mplot_coef\u001b[0m\u001b[0;34m(\u001b[0m\u001b[0mcoef\u001b[0m\u001b[0;34m)\u001b[0m\u001b[0;34m\u001b[0m\u001b[0m\n\u001b[0m",
      "\u001b[0;31mNameError\u001b[0m: name 'coef' is not defined"
     ]
    }
   ],
   "source": [
    "# 주요 변수 시각화\n",
    "plot_coef(coef)"
   ]
  },
  {
   "cell_type": "markdown",
   "metadata": {},
   "source": [
    "## 피쳐 엔지니어링 (데이터 최적화) [+1]\n",
    "    - 직접 새로운 변수를 추가 혹은 기존 변수를 삭제하여서 최적의 변수세트 생성해보기\n",
    "    - 주의: 훈련 데이터에 수행한 변수 변환은 테스트 데이터에도 동일하게 수행해야함"
   ]
  },
  {
   "cell_type": "code",
   "execution_count": 49,
   "metadata": {
    "collapsed": true
   },
   "outputs": [],
   "source": [
    "# 입력 : trn, target, tst\n",
    "# 출력 : new trn, new tst, same target"
   ]
  },
  {
   "cell_type": "code",
   "execution_count": 66,
   "metadata": {
    "collapsed": true
   },
   "outputs": [],
   "source": [
    "# 예시\n",
    "trn['age_log'] = np.log(trn['age']+1)\n",
    "tst['age_log'] = np.log(tst['age']+1)\n",
    "\n",
    "trn['antiguedad_log'] = np.log(trn['antiguedad']+1)\n",
    "tst['antiguedad_log'] = np.log(tst['antiguedad']+1)\n",
    "\n",
    "trn['renta_log'] = np.log(trn['renta']+1)\n",
    "tst['renta_log'] = np.log(tst['renta']+1)\n",
    "\n",
    "trn['age_by10'] = (trn['age']/10).astype(int)\n",
    "tst['age_by10'] = (tst['age']/10).astype(int)"
   ]
  },
  {
   "cell_type": "code",
   "execution_count": 69,
   "metadata": {
    "collapsed": false
   },
   "outputs": [
    {
     "data": {
      "text/html": [
       "<div>\n",
       "<table border=\"1\" class=\"dataframe\">\n",
       "  <thead>\n",
       "    <tr style=\"text-align: right;\">\n",
       "      <th></th>\n",
       "      <th>age</th>\n",
       "      <th>age_by10</th>\n",
       "    </tr>\n",
       "  </thead>\n",
       "  <tbody>\n",
       "    <tr>\n",
       "      <th>0</th>\n",
       "      <td>28</td>\n",
       "      <td>2</td>\n",
       "    </tr>\n",
       "    <tr>\n",
       "      <th>1</th>\n",
       "      <td>28</td>\n",
       "      <td>2</td>\n",
       "    </tr>\n",
       "    <tr>\n",
       "      <th>2</th>\n",
       "      <td>37</td>\n",
       "      <td>3</td>\n",
       "    </tr>\n",
       "    <tr>\n",
       "      <th>3</th>\n",
       "      <td>37</td>\n",
       "      <td>3</td>\n",
       "    </tr>\n",
       "    <tr>\n",
       "      <th>4</th>\n",
       "      <td>40</td>\n",
       "      <td>4</td>\n",
       "    </tr>\n",
       "  </tbody>\n",
       "</table>\n",
       "</div>"
      ],
      "text/plain": [
       "   age  age_by10\n",
       "0   28         2\n",
       "1   28         2\n",
       "2   37         3\n",
       "3   37         3\n",
       "4   40         4"
      ]
     },
     "execution_count": 69,
     "metadata": {},
     "output_type": "execute_result"
    }
   ],
   "source": [
    "trn[['age','age_by10']].head()"
   ]
  },
  {
   "cell_type": "code",
   "execution_count": null,
   "metadata": {
    "collapsed": true
   },
   "outputs": [],
   "source": [
    "trn_v2 = trn.drop(['age'], axis=1)"
   ]
  },
  {
   "cell_type": "markdown",
   "metadata": {},
   "source": [
    "## 매개변수 최적화 (모델 최적화) [+1]\n",
    "    - 사용하는 모델의 매개변수를 직접 정의하여 최적의 매개변수 찾아내기\n",
    "    - 참고: scikit learn 홈페이지를 통해 모델별 매개변수 확인 가능"
   ]
  },
  {
   "cell_type": "code",
   "execution_count": 50,
   "metadata": {
    "collapsed": true
   },
   "outputs": [],
   "source": [
    "# 입력 : none\n",
    "# 출력: model instance"
   ]
  },
  {
   "cell_type": "code",
   "execution_count": 54,
   "metadata": {
    "collapsed": false
   },
   "outputs": [
    {
     "ename": "TypeError",
     "evalue": "__init__() got an unexpected keyword argument 'n_jobs'",
     "output_type": "error",
     "traceback": [
      "\u001b[0;31m---------------------------------------------------------------------------\u001b[0m",
      "\u001b[0;31mTypeError\u001b[0m                                 Traceback (most recent call last)",
      "\u001b[0;32m<ipython-input-54-d14b1829c908>\u001b[0m in \u001b[0;36m<module>\u001b[0;34m()\u001b[0m\n\u001b[0;32m----> 1\u001b[0;31m \u001b[0mmodel\u001b[0m \u001b[0;34m=\u001b[0m \u001b[0mDecisionTreeClassifier\u001b[0m\u001b[0;34m(\u001b[0m\u001b[0mmax_depth\u001b[0m\u001b[0;34m=\u001b[0m\u001b[0;36m10\u001b[0m\u001b[0;34m,\u001b[0m \u001b[0mn_jobs\u001b[0m\u001b[0;34m=\u001b[0m\u001b[0;34m-\u001b[0m\u001b[0;36m1\u001b[0m\u001b[0;34m,\u001b[0m \u001b[0mrandom_state\u001b[0m\u001b[0;34m=\u001b[0m\u001b[0;36m777\u001b[0m\u001b[0;34m)\u001b[0m\u001b[0;34m\u001b[0m\u001b[0m\n\u001b[0m",
      "\u001b[0;31mTypeError\u001b[0m: __init__() got an unexpected keyword argument 'n_jobs'"
     ]
    }
   ],
   "source": [
    "model = DecisionTreeClassifier(max_depth=10, random_state=777)"
   ]
  },
  {
   "cell_type": "markdown",
   "metadata": {},
   "source": [
    "## 캐글에 직접 결과물 제출하기\n",
    "    - MAP@7 평가척도를 기반 (https://www.kaggle.com/c/santander-product-recommendation/details/evaluation)\n",
    "    - 유저당 상위 7개의 제품을 추천해야함"
   ]
  },
  {
   "cell_type": "code",
   "execution_count": 51,
   "metadata": {
    "collapsed": false
   },
   "outputs": [
    {
     "name": "stdout",
     "output_type": "stream",
     "text": [
      "==================================================\n",
      "# Test shape : (929615, 22)\n"
     ]
    }
   ],
   "source": [
    "from datetime import datetime\n",
    "import os\n",
    "\n",
    "print('='*50)\n",
    "print('# Test shape : {}'.format(tst.shape))\n",
    "\n",
    "model = LogisticRegression(n_jobs=-1, random_state=777)\n",
    "model.fit(trn,target)\n",
    "\n",
    "preds = model.predict_proba(tst)\n",
    "preds = np.fliplr(np.argsort(preds, axis=1))"
   ]
  },
  {
   "cell_type": "code",
   "execution_count": 52,
   "metadata": {
    "collapsed": true
   },
   "outputs": [],
   "source": [
    "cols = ['ind_ahor_fin_ult1', 'ind_aval_fin_ult1', 'ind_cco_fin_ult1',\n",
    "        'ind_cder_fin_ult1', 'ind_cno_fin_ult1',  'ind_ctju_fin_ult1',\n",
    "        'ind_ctma_fin_ult1', 'ind_ctop_fin_ult1', 'ind_ctpp_fin_ult1',\n",
    "        'ind_deco_fin_ult1', 'ind_deme_fin_ult1', 'ind_dela_fin_ult1',\n",
    "        'ind_ecue_fin_ult1', 'ind_fond_fin_ult1', 'ind_hip_fin_ult1',\n",
    "        'ind_plan_fin_ult1', 'ind_pres_fin_ult1', 'ind_reca_fin_ult1',\n",
    "        'ind_tjcr_fin_ult1', 'ind_valo_fin_ult1', 'ind_viv_fin_ult1',\n",
    "        'ind_nomina_ult1',   'ind_nom_pens_ult1', 'ind_recibo_ult1']\n",
    "target_cols = [cols[i] for i, col in enumerate(cols) if i in rem_targets]"
   ]
  },
  {
   "cell_type": "code",
   "execution_count": 53,
   "metadata": {
    "collapsed": true
   },
   "outputs": [],
   "source": [
    "final_preds = []\n",
    "for pred in preds:\n",
    "    top_products = []\n",
    "    for i, product in enumerate(pred):\n",
    "        top_products.append(target_cols[product])\n",
    "        if i == 6:\n",
    "            break\n",
    "    final_preds.append(' '.join(top_products))\n",
    "\n",
    "out_df = pd.DataFrame({'ncodpers':test_id, 'added_products':final_preds})\n",
    "file_name = datetime.now().strftime(\"result_%Y%m%d%H%M%S\") + '.csv'\n",
    "out_df.to_csv(os.path.join('../output',file_name), index=False)"
   ]
  },
  {
   "cell_type": "markdown",
   "metadata": {},
   "source": [
    "결과물 출력은 https://www.kaggle.com/c/santander-product-recommendation/submissions/attach"
   ]
  }
 ],
 "metadata": {
  "kernelspec": {
   "display_name": "Python 3",
   "language": "python",
   "name": "python3"
  },
  "language_info": {
   "codemirror_mode": {
    "name": "ipython",
    "version": 3
   },
   "file_extension": ".py",
   "mimetype": "text/x-python",
   "name": "python",
   "nbconvert_exporter": "python",
   "pygments_lexer": "ipython3",
   "version": "3.5.2"
  }
 },
 "nbformat": 4,
 "nbformat_minor": 2
}
