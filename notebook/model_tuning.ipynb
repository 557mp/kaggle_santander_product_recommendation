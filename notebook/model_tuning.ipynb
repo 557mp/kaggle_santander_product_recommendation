{
 "cells": [
  {
   "cell_type": "code",
   "execution_count": 1,
   "metadata": {
    "collapsed": false
   },
   "outputs": [
    {
     "name": "stderr",
     "output_type": "stream",
     "text": [
      "/usr/local/lib/python2.7/dist-packages/sklearn/cross_validation.py:44: DeprecationWarning: This module was deprecated in version 0.18 in favor of the model_selection module into which all the refactored classes and functions are moved. Also note that the interface of the new CV iterators are different from that of this module. This module will be removed in 0.20.\n",
      "  \"This module will be removed in 0.20.\", DeprecationWarning)\n"
     ]
    }
   ],
   "source": [
    "import pandas as pd\n",
    "import numpy as np\n",
    "from sklearn.model_selection import StratifiedShuffleSplit\n",
    "from sklearn.preprocessing import LabelEncoder\n",
    "from sklearn.metrics import log_loss\n",
    "import xgboost as xgb\n",
    "from sklearn.ensemble import RandomForestClassifier\n",
    "import pickle\n",
    "\n",
    "np.random.seed(777)"
   ]
  },
  {
   "cell_type": "markdown",
   "metadata": {},
   "source": [
    "## 01 Load Data"
   ]
  },
  {
   "cell_type": "code",
   "execution_count": 31,
   "metadata": {
    "collapsed": false
   },
   "outputs": [
    {
     "name": "stdout",
     "output_type": "stream",
     "text": [
      "Load target\n",
      "(45595, 379) (45595,)\n"
     ]
    },
    {
     "name": "stderr",
     "output_type": "stream",
     "text": [
      "/usr/local/lib/python2.7/dist-packages/sklearn/preprocessing/label.py:129: DataConversionWarning: A column-vector y was passed when a 1d array was expected. Please change the shape of y to (n_samples, ), for example using ravel().\n",
      "  y = column_or_1d(y, warn=True)\n"
     ]
    }
   ],
   "source": [
    "print 'Load target'\n",
    "y = pd.DataFrame(pickle.load(open('../input/target.pkl','rb')), columns=['target'])\n",
    "trn = pd.read_csv('../input/train_append_lb_lag_fe_v3.csv')\n",
    "rem_targets = [2, 4, 5, 6, 7, 8, 9, 10, 11, 12, 13, 15, 17, 18, 19, 21, 22, 23]  # 18 classes\n",
    "\n",
    "# trim \n",
    "trn = trn[y['target'].isin(rem_targets)]\n",
    "y = y[y['target'].isin(rem_targets)]\n",
    "y = LabelEncoder().fit_transform(y)\n",
    "\n",
    "print trn.shape, y.shape"
   ]
  },
  {
   "cell_type": "markdown",
   "metadata": {},
   "source": [
    "## 02 Run Model"
   ]
  },
  {
   "cell_type": "code",
   "execution_count": null,
   "metadata": {
    "collapsed": false
   },
   "outputs": [
    {
     "name": "stdout",
     "output_type": "stream",
     "text": [
      "CV..\n",
      "Iter 1 / 2\n"
     ]
    }
   ],
   "source": [
    "bst, best_iter = main(np.asarray(trn.drop(drop_cols,axis=1)), np.asarray(y))"
   ]
  },
  {
   "cell_type": "code",
   "execution_count": 27,
   "metadata": {
    "collapsed": false
   },
   "outputs": [],
   "source": [
    "# -*- coding:utf8 -*-\n",
    "\"\"\"\n",
    "@author: Kweonwoo Jung\n",
    "@brief:\n",
    "\t\t- collect preprocessed features\n",
    "\t\t- fit model and evaluate mlogloss\n",
    "\"\"\"\n",
    "\n",
    "\n",
    "def main(x,y):\n",
    "\n",
    "    # get model\n",
    "    params, num_round, early_stop = get_model()\n",
    "    #model = get_model()\n",
    "    \n",
    "    # params\n",
    "    n_splits = 2\n",
    "    test_size = 0.05\n",
    "        \n",
    "    print 'CV..'\n",
    "    # split to 95:05 (sss/random split)\n",
    "    sss = StratifiedShuffleSplit(n_splits=n_splits, test_size=test_size, random_state=777)\n",
    "    trn_scores = []; vld_scores = []; best_iter = []\n",
    "    for i, (t, v) in enumerate(sss.split(x, y)):\n",
    "        print 'Iter {} / {}'.format(i+1, n_splits)\n",
    "        x_trn, x_vld = x[t], x[v]\n",
    "        y_trn, y_vld = y[t], y[v]\n",
    "       \n",
    "        dtrn = xgb.DMatrix(x_trn, label=y_trn)\n",
    "        dvld = xgb.DMatrix(x_vld, label=y_vld)\n",
    "        watch_list = [(dtrn, 'train'), (dvld, 'eval')]\n",
    "\n",
    "        # fit xgb\n",
    "        bst = xgb.train(params, dtrn, num_round, watch_list, \\\n",
    "                        early_stopping_rounds=early_stop, verbose_eval=False)\n",
    "        \n",
    "        # trn\n",
    "        preds = bst.predict(dtrn)\n",
    "        trn_score = log_loss(y_trn, preds)\n",
    "        trn_scores.append(trn_score)\n",
    "        \n",
    "        # vld\n",
    "        preds = bst.predict(dvld)  \n",
    "        vld_score = log_loss(y_vld, preds)\n",
    "        vld_scores.append(vld_score)\n",
    "        \n",
    "        # iter\n",
    "        best_iter.append(bst.best_iteration)\n",
    "\n",
    "    # eval\n",
    "    print '='*50\n",
    "    print 'TRN SCORE : ', np.mean(trn_scores)\n",
    "    print 'TRN SCOREs : ', trn_scores\n",
    "    print 'VLD SCORE : ', np.mean(vld_scores)\n",
    "    print 'VLD SCOREs : ', vld_scores\n",
    "    print 'BEST ITER : ', np.mean(best_iter)\n",
    "    print 'BEST ITERs : ', best_iter\n",
    "    \n",
    "    return bst, np.mean(best_iter)"
   ]
  },
  {
   "cell_type": "code",
   "execution_count": 28,
   "metadata": {
    "collapsed": false
   },
   "outputs": [],
   "source": [
    "def get_model():\n",
    "    # XGB Model Param\n",
    "    num_round = 5000\n",
    "    early_stop = 50\n",
    "    xgb_params = {\n",
    "        'booster': 'gbtree',\n",
    "        #'colsample_bylevel': 0.7,\n",
    "        'colsample_bytree': 0.8,\n",
    "        'gamma': 3,\n",
    "        'learning_rate': 0.1,\n",
    "        'max_depth': 4,\n",
    "        'min_child_weight': 5,\n",
    "        'nthread': 12,\n",
    "        'num_class': 18,\n",
    "        'objective': 'multi:softprob',\n",
    "        #'reg_alpha': 0,\n",
    "        #'reg_lambda': 2,\n",
    "        'silent': 1,\n",
    "        'subsample': 0.8,\n",
    "        'eval_metric': 'mlogloss',\n",
    "        'seed': 777,\n",
    "        }\n",
    "    num_round = 5000\n",
    "    early_stop = 50\n",
    "    xgb_params = {\n",
    "        'booster': 'gbtree',\n",
    "        'gamma': 1,\n",
    "        'learning_rate': 0.1,\n",
    "        'max_depth': 4,\n",
    "        'min_child_weight': 3,\n",
    "        'nthread': 12,\n",
    "        'num_class': 18,\n",
    "        'objective': 'multi:softprob',\n",
    "        'silent': 1,\n",
    "        'eval_metric': 'mlogloss',\n",
    "        'seed': 777,\n",
    "        }\n",
    "    return xgb_params, num_round, early_stop"
   ]
  },
  {
   "cell_type": "markdown",
   "metadata": {
    "collapsed": true
   },
   "source": [
    "## Submit Result"
   ]
  },
  {
   "cell_type": "code",
   "execution_count": null,
   "metadata": {
    "collapsed": true
   },
   "outputs": [],
   "source": [
    "# full target cols\n",
    "target_cols =  ['ind_ahor_fin_ult1', 'ind_aval_fin_ult1', 'ind_cco_fin_ult1',\n",
    "                'ind_cder_fin_ult1', 'ind_cno_fin_ult1',  'ind_ctju_fin_ult1',\n",
    "                'ind_ctma_fin_ult1', 'ind_ctop_fin_ult1', 'ind_ctpp_fin_ult1',\n",
    "                'ind_deco_fin_ult1', 'ind_deme_fin_ult1', 'ind_dela_fin_ult1',\n",
    "                'ind_ecue_fin_ult1', 'ind_fond_fin_ult1', 'ind_hip_fin_ult1',\n",
    "                'ind_plan_fin_ult1', 'ind_pres_fin_ult1', 'ind_reca_fin_ult1',\n",
    "                'ind_tjcr_fin_ult1', 'ind_valo_fin_ult1', 'ind_viv_fin_ult1',\n",
    "                'ind_nomina_ult1',   'ind_nom_pens_ult1', 'ind_recibo_ult1']\n",
    "\n",
    "# trimmed target cols\n",
    "target_cols =  ['ind_cco_fin_ult1',\n",
    "                'ind_cno_fin_ult1',  'ind_ctju_fin_ult1',\n",
    "                'ind_ctma_fin_ult1', 'ind_ctop_fin_ult1', 'ind_ctpp_fin_ult1',\n",
    "                'ind_deco_fin_ult1', 'ind_deme_fin_ult1', 'ind_dela_fin_ult1',\n",
    "                'ind_ecue_fin_ult1', 'ind_fond_fin_ult1', \n",
    "                'ind_plan_fin_ult1', 'ind_reca_fin_ult1',\n",
    "                'ind_tjcr_fin_ult1', 'ind_valo_fin_ult1', \n",
    "                'ind_nomina_ult1',   'ind_nom_pens_ult1', 'ind_recibo_ult1']"
   ]
  },
  {
   "cell_type": "code",
   "execution_count": null,
   "metadata": {
    "collapsed": false
   },
   "outputs": [],
   "source": [
    "from datetime import datetime\n",
    "import os\n",
    "\n",
    "print 'loading data..'\n",
    "tst = pd.read_csv('../input/test_append_lb_lag_fe_v3.csv')\n",
    "'''\n",
    "tst['age_log'] = np.log(tst['age']+1)\n",
    "tst['fecha_alta_log'] = np.log(tst['fecha_alta']+1)\n",
    "tst['renta_log'] = np.log(tst['renta']+1)\n",
    "tst['antiguedad_log'] = np.log(tst['antiguedad']+1)\n",
    "'''\n",
    "dtrn = xgb.DMatrix(trn,y)\n",
    "dtst = xgb.DMatrix(tst)\n",
    "\n",
    "xgb_params, num_round, early_stop = get_model()\n",
    "num_round = 171\n",
    "\n",
    "print 'fitting a model..'\n",
    "bst = xgb.train(xgb_params, dtrn, num_boost_round = int(num_round/0.95), verbose_eval=False)\n",
    "\n",
    "print 'making predictions..'\n",
    "preds = bst.predict(dtst)\n",
    "preds = np.fliplr(np.argsort(preds, axis=1))\n",
    "\n",
    "print 'making submission..'\n",
    "final_preds = []\n",
    "for pred in preds:\n",
    "    top_products = []\n",
    "    for i, product in enumerate(pred):\n",
    "        top_products.append(target_cols[product])\n",
    "        if i == 6:\n",
    "            break\n",
    "    final_preds.append(' '.join(top_products))\n",
    "\n",
    "test_id = pd.read_csv('../input/test_ver2.csv', usecols=['ncodpers'])['ncodpers']\n",
    "out_df = pd.DataFrame({'ncodpers':test_id, 'added_products':final_preds})\n",
    "file_name = datetime.now().strftime(\"result_%Y%m%d%H%M%S\") + '.csv'\n",
    "out_df.to_csv(os.path.join('../output',file_name), index=False)\n",
    "print 'submission file created!'"
   ]
  },
  {
   "cell_type": "code",
   "execution_count": null,
   "metadata": {
    "collapsed": true
   },
   "outputs": [],
   "source": []
  },
  {
   "cell_type": "code",
   "execution_count": null,
   "metadata": {
    "collapsed": true
   },
   "outputs": [],
   "source": []
  },
  {
   "cell_type": "code",
   "execution_count": null,
   "metadata": {
    "collapsed": false
   },
   "outputs": [],
   "source": [
    "import matplotlib.pyplot as plt\n",
    "%matplotlib inline\n",
    "import seaborn as sns"
   ]
  },
  {
   "cell_type": "code",
   "execution_count": null,
   "metadata": {
    "collapsed": false
   },
   "outputs": [],
   "source": [
    "# feature importance plot\n",
    "xgb.plot_importance(bst)"
   ]
  },
  {
   "cell_type": "code",
   "execution_count": null,
   "metadata": {
    "collapsed": false
   },
   "outputs": [],
   "source": [
    "# feature importances\n",
    "scores = dict()\n",
    "fscore = bst.get_fscore()\n",
    "for k,v in fscore.items():\n",
    "    scores[trn.columns[int(k[1:])]] = v\n",
    "    \n",
    "import operator\n",
    "scores_sorted = sorted(scores.items(), key=operator.itemgetter(1), reverse=True)\n",
    "scores_sorted"
   ]
  },
  {
   "cell_type": "code",
   "execution_count": null,
   "metadata": {
    "collapsed": false
   },
   "outputs": [],
   "source": [
    "# feature importances\n",
    "fscore = bst.get_fscore()\n",
    "    \n",
    "import operator\n",
    "scores_sorted = sorted(fscore.items(), key=operator.itemgetter(1), reverse=True)\n",
    "scores_sorted"
   ]
  },
  {
   "cell_type": "code",
   "execution_count": null,
   "metadata": {
    "collapsed": false
   },
   "outputs": [],
   "source": [
    "# select top k features\n",
    "top = 290\n",
    "\n",
    "cols = []\n",
    "for i, (k,v) in enumerate(scores_sorted):\n",
    "    if i == top:\n",
    "        break\n",
    "    \n",
    "    cols.append(k)\n",
    "len(cols)"
   ]
  },
  {
   "cell_type": "markdown",
   "metadata": {},
   "source": [
    "### f score of each feature on original xgboost model - lag-5\n",
    "[('age', 8211),\n",
    " ('renta', 7539),\n",
    " ('fecha_alta', 6954),\n",
    " ('antiguedad', 6124),\n",
    " ('cod_prov', 3387),\n",
    " ('nomprov', 2931),\n",
    " ('canal_entrada', 2743),\n",
    " ('fecha_alta_lag_fiv', 1974),\n",
    " ('age_lag_fiv', 1932),\n",
    " ('renta_lag_fiv', 1672),\n",
    " ('ind_cco_fin_ult1_lag_one', 1473),\n",
    " ('ind_nom_pens_ult1_lag_one', 1461),\n",
    " ('ind_recibo_ult1_lag_one', 1346),\n",
    " ('ind_cno_fin_ult1_lag_one', 1310),\n",
    " ('segmento', 1269),\n",
    " ('cod_prov_lag_fiv', 1245),\n",
    " ('age_lag_fou', 1130),\n",
    " ('antiguedad_lag_fiv', 1128),\n",
    " ('sexo', 1100),\n",
    " ('age_lag_one', 1078),\n",
    " ('tiprel_1mes', 1055),\n",
    " ('ind_nomina_ult1_lag_one', 1001),\n",
    " ('ind_cno_fin_ult1_lag_two', 941),\n",
    " ('ind_ecue_fin_ult1_lag_one', 935),\n",
    " ('ind_dela_fin_ult1_lag_one', 924),\n",
    " ('fecha_alta_lag_one', 918),\n",
    " ('ind_nom_pens_ult1_lag_two', 906),\n",
    " ('renta_lag_fou', 882),\n",
    " ('fecha_alta_lag_fou', 880),\n",
    " ('ind_recibo_ult1_lag_two', 854),\n",
    " ('fecha_alta_lag_thr', 790),\n",
    " ('ind_tjcr_fin_ult1_lag_one', 784),\n",
    " ('canal_entrada_lag_fiv', 774),\n",
    " ('ind_tjcr_fin_ult1_lag_two', 774),\n",
    " ('ind_recibo_ult1_lag_thr', 737),\n",
    " ('renta_lag_thr', 693),\n",
    " ('antiguedad_lag_fou', 661),\n",
    " ('age_lag_thr', 657),\n",
    " ('ind_recibo_ult1_lag_fiv', 641),\n",
    " ('renta_lag_one', 629),\n",
    " ('ind_nomina_ult1_lag_two', 622),\n",
    " ('ind_tjcr_fin_ult1_lag_thr', 609),\n",
    " ('nomprov_lag_fiv', 607),\n",
    " ('ind_valo_fin_ult1_lag_one', 579),\n",
    " ('ind_reca_fin_ult1_lag_one', 578),\n",
    " ('indext', 573),\n",
    " ('ind_recibo_ult1_lag_fou', 558),\n",
    " ('ind_nom_pens_ult1_lag_thr', 549),\n",
    " ('ind_tjcr_fin_ult1_lag_fiv', 549),\n",
    " ('age_lag_two', 538),\n",
    " ('ind_cco_fin_ult1_lag_two', 532),\n",
    " ('fecha_alta_lag_two', 527),\n",
    " ('ind_ctop_fin_ult1_lag_one', 505),\n",
    " ('ind_actividad_cliente', 498),\n",
    " ('ind_nom_pens_ult1_lag_fiv', 469),\n",
    " ('ind_ctpp_fin_ult1_lag_one', 457),\n",
    " ('ind_cco_fin_ult1_lag_thr', 452),\n",
    " ('cod_prov_lag_fou', 448),\n",
    " ('ind_tjcr_fin_ult1_lag_fou', 436),\n",
    " ('ind_fond_fin_ult1_lag_one', 432),\n",
    " ('ind_dela_fin_ult1_lag_two', 410),\n",
    " ('renta_lag_two', 405),\n",
    " ('ind_cno_fin_ult1_lag_thr', 403),\n",
    " ('nomprov_lag_fou', 402),\n",
    " ('ind_ctma_fin_ult1_lag_two', 397),\n",
    " ('ind_valo_fin_ult1_lag_fiv', 397),\n",
    " ('ind_dela_fin_ult1_lag_fiv', 395),\n",
    " ('ind_cco_fin_ult1_lag_fiv', 392),\n",
    " ('antiguedad_lag_thr', 392),\n",
    " ('ind_ctop_fin_ult1_lag_two', 391),\n",
    " ('ind_cno_fin_ult1_lag_fiv', 389),\n",
    " ('ind_cco_fin_ult1_lag_fou', 379),\n",
    " ('ind_nom_pens_ult1_lag_fou', 372),\n",
    " ('ind_deco_fin_ult1_lag_one', 364),\n",
    " ('ind_ctma_fin_ult1_lag_one', 362),\n",
    " ('ind_ecue_fin_ult1_lag_fiv', 362),\n",
    " ('canal_entrada_lag_fou', 358),\n",
    " ('cod_prov_lag_thr', 353),\n",
    " ('ind_cno_fin_ult1_lag_fou', 352),\n",
    " ('segmento_lag_fiv', 319),\n",
    " ('ind_ecue_fin_ult1_lag_two', 314),\n",
    " ('ind_nomina_ult1_lag_fiv', 313),\n",
    " ('ind_ecue_fin_ult1_lag_thr', 308),\n",
    " ('ind_nomina_ult1_lag_fou', 305),\n",
    " ('cod_prov_lag_one', 302),\n",
    " ('ind_valo_fin_ult1_lag_fou', 299),\n",
    " ('nomprov_lag_one', 295),\n",
    " ('ind_ecue_fin_ult1_lag_fou', 290),\n",
    " ('ind_dela_fin_ult1_lag_thr', 290),\n",
    " ('ind_ctma_fin_ult1_lag_thr', 278),\n",
    " ('ind_deco_fin_ult1_lag_thr', 268),\n",
    " ('ind_nomina_ult1_lag_thr', 267),\n",
    " ('ind_ctju_fin_ult1_lag_one', 264),\n",
    " ('canal_entrada_lag_thr', 264),\n",
    " ('ind_fond_fin_ult1_lag_fiv', 260),\n",
    " ('ind_ctpp_fin_ult1_lag_two', 258),\n",
    " ('nomprov_lag_two', 243),\n",
    " ('antiguedad_lag_one', 237),\n",
    " ('ind_fond_fin_ult1_lag_fou', 236),\n",
    " ('ind_ctop_fin_ult1_lag_fiv', 236),\n",
    " ('nomprov_lag_thr', 227),\n",
    " ('sexo_lag_fiv', 223),\n",
    " ('ind_ctpp_fin_ult1_lag_fiv', 219),\n",
    " ('ind_dela_fin_ult1_lag_fou', 219),\n",
    " ('ind_deme_fin_ult1_lag_one', 214),\n",
    " ('cod_prov_lag_two', 206),\n",
    " ('antiguedad_lag_two', 204),\n",
    " ('ind_deme_fin_ult1_lag_fiv', 199),\n",
    " ('ind_ctpp_fin_ult1_lag_thr', 198),\n",
    " ('ind_ctop_fin_ult1_lag_thr', 196),\n",
    " ('ind_valo_fin_ult1_lag_thr', 193),\n",
    " ('ind_deco_fin_ult1_lag_two', 189),\n",
    " ('ind_reca_fin_ult1_lag_fiv', 186),\n",
    " ('ind_hip_fin_ult1_lag_one', 182),\n",
    " ('ind_valo_fin_ult1_lag_two', 176),\n",
    " ('ind_actividad_cliente_lag_thr', 172),\n",
    " ('tiprel_1mes_lag_one', 171),\n",
    " ('ind_reca_fin_ult1_lag_two', 168),\n",
    " ('ult_fec_cli_1t_lag_one', 168),\n",
    " ('canal_entrada_lag_two', 154),\n",
    " ('ind_ctma_fin_ult1_lag_fiv', 153),\n",
    " ('ind_actividad_cliente_lag_fiv', 145),\n",
    " ('ind_deco_fin_ult1_lag_fou', 142),\n",
    " ('ind_ctop_fin_ult1_lag_fou', 139),\n",
    " ('ind_fond_fin_ult1_lag_two', 135),\n",
    " ('canal_entrada_lag_one', 131),\n",
    " ('ind_reca_fin_ult1_lag_thr', 129),\n",
    " ('segmento_lag_fou', 128),\n",
    " ('sexo_lag_one', 126),\n",
    " ('ind_ctma_fin_ult1_lag_fou', 125),\n",
    " ('segmento_lag_one', 125),\n",
    " ('indext_lag_fiv', 113),\n",
    " ('ind_fond_fin_ult1_lag_thr', 112),\n",
    " ('tiprel_1mes_lag_fou', 106),\n",
    " ('segmento_lag_thr', 103),\n",
    " ('ind_plan_fin_ult1_lag_fou', 96),\n",
    " ('ind_plan_fin_ult1_lag_one', 88),\n",
    " ('ind_pres_fin_ult1_lag_one', 78),\n",
    " ('ind_viv_fin_ult1_lag_thr', 73),\n",
    " ('ind_ctju_fin_ult1_lag_fou', 71),\n",
    " ('ind_plan_fin_ult1_lag_thr', 71),\n",
    " ('ind_viv_fin_ult1_lag_one', 70),\n",
    " ('sexo_lag_thr', 69),\n",
    " ('segmento_lag_two', 67),\n",
    " ('ult_fec_cli_1t_lag_thr', 66),\n",
    " ('ind_ctpp_fin_ult1_lag_fou', 61),\n",
    " ('sexo_lag_fou', 60),\n",
    " ('ind_actividad_cliente_lag_one', 56),\n",
    " ('pais_residencia', 52),\n",
    " ('ind_ctju_fin_ult1_lag_fiv', 47),\n",
    " ('ind_hip_fin_ult1_lag_fiv', 47),\n",
    " ('tiprel_1mes_lag_thr', 45),\n",
    " ('indext_lag_one', 43),\n",
    " ('ind_deme_fin_ult1_lag_thr', 40),\n",
    " ('ind_plan_fin_ult1_lag_fiv', 40),\n",
    " ('ind_hip_fin_ult1_lag_two', 37),\n",
    " ('pais_residencia_lag_fiv', 37),\n",
    " ('ind_actividad_cliente_lag_fou', 36),\n",
    " ('ind_pres_fin_ult1_lag_fiv', 35),\n",
    " ('ind_ctju_fin_ult1_lag_two', 31),\n",
    " ('indext_lag_two', 30),\n",
    " ('sexo_lag_two', 30),\n",
    " ('tiprel_1mes_lag_fiv', 29),\n",
    " ('indext_lag_fou', 27),\n",
    " ('ind_actividad_cliente_lag_two', 26),\n",
    " ('ind_pres_fin_ult1_lag_two', 26),\n",
    " ('ind_deme_fin_ult1_lag_fou', 26),\n",
    " ('ind_cder_fin_ult1_lag_thr', 24),\n",
    " ('ind_cder_fin_ult1_lag_two', 24),\n",
    " ('ult_fec_cli_1t_lag_two', 24),\n",
    " ('ind_viv_fin_ult1_lag_two', 24),\n",
    " ('ind_hip_fin_ult1_lag_fou', 23),\n",
    " ('ind_cder_fin_ult1_lag_one', 18),\n",
    " ('tiprel_1mes_lag_two', 17),\n",
    " ('indfall', 16),\n",
    " ('ind_reca_fin_ult1_lag_fou', 15),\n",
    " ('ind_deme_fin_ult1_lag_two', 15),\n",
    " ('ind_empleado', 14),\n",
    " ('ind_plan_fin_ult1_lag_two', 13),\n",
    " ('ind_ctju_fin_ult1_lag_thr', 13),\n",
    " ('ind_cder_fin_ult1_lag_fou', 12),\n",
    " ('ult_fec_cli_1t_lag_fou', 12),\n",
    " ('indext_lag_thr', 12),\n",
    " ('ind_deco_fin_ult1_lag_fiv', 11),\n",
    " ('ind_cder_fin_ult1_lag_fiv', 10),\n",
    " ('indresi', 9),\n",
    " ('ult_fec_cli_1t', 7),\n",
    " ('ind_pres_fin_ult1_lag_fou', 6),\n",
    " ('ind_viv_fin_ult1_lag_fiv', 5),\n",
    " ('indrel', 5),\n",
    " ('ind_empleado_lag_fiv', 4),\n",
    " ('ind_viv_fin_ult1_lag_fou', 4),\n",
    " ('ind_pres_fin_ult1_lag_thr', 3),\n",
    " ('indrel_lag_fou', 3),\n",
    " ('pais_residencia_lag_one', 3),\n",
    " ('ind_empleado_lag_one', 2),\n",
    " ('ind_empleado_lag_fou', 1),\n",
    " ('ind_hip_fin_ult1_lag_thr', 1)]"
   ]
  },
  {
   "cell_type": "code",
   "execution_count": null,
   "metadata": {
    "collapsed": true
   },
   "outputs": [],
   "source": []
  },
  {
   "cell_type": "code",
   "execution_count": null,
   "metadata": {
    "collapsed": true
   },
   "outputs": [],
   "source": []
  },
  {
   "cell_type": "code",
   "execution_count": 25,
   "metadata": {
    "collapsed": false
   },
   "outputs": [],
   "source": [
    "cols = trn.columns.values.tolist()\n",
    "\n",
    "corr_mat = trn.corr()\n",
    "drop_cols = []\n",
    "threshold = 0.9\n",
    "\n",
    "for i, i_col in enumerate(cols):\n",
    "    for j, j_col in enumerate(cols):\n",
    "        if j_col in drop_cols:\n",
    "            continue\n",
    "        if i > j:\n",
    "            if corr_mat.iloc[i,j] > threshold:\n",
    "                drop_cols.append(j_col)\n",
    "            \n",
    "print(len(drop_cols))"
   ]
  }
 ],
 "metadata": {
  "kernelspec": {
   "display_name": "Python 2",
   "language": "python",
   "name": "python2"
  },
  "language_info": {
   "codemirror_mode": {
    "name": "ipython",
    "version": 2
   },
   "file_extension": ".py",
   "mimetype": "text/x-python",
   "name": "python",
   "nbconvert_exporter": "python",
   "pygments_lexer": "ipython2",
   "version": "2.7.6"
  }
 },
 "nbformat": 4,
 "nbformat_minor": 1
}
