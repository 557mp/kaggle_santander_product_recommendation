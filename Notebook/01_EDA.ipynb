{
 "cells": [
  {
   "cell_type": "markdown",
   "metadata": {},
   "source": [
    "    showing stacked bar chart for each feature to observe change over time"
   ]
  },
  {
   "cell_type": "code",
   "execution_count": null,
   "metadata": {
    "collapsed": false
   },
   "outputs": [
    {
     "name": "stderr",
     "output_type": "stream",
     "text": [
      "/usr/local/lib/python2.7/dist-packages/matplotlib/font_manager.py:273: UserWarning: Matplotlib is building the font cache using fc-list. This may take a moment.\n",
      "  warnings.warn('Matplotlib is building the font cache using fc-list. This may take a moment.')\n"
     ]
    }
   ],
   "source": [
    "import pandas as pd\n",
    "import matplotlib.pyplot as plt\n",
    "%matplotlib inline\n",
    "from sklearn.preprocessing import LabelEncoder\n",
    "import seaborn as sns\n",
    "import numpy as np"
   ]
  },
  {
   "cell_type": "code",
   "execution_count": null,
   "metadata": {
    "collapsed": false
   },
   "outputs": [],
   "source": [
    "columns = ['ind_empleado','pais_residencia','sexo','age','ind_nuevo','antiguedad','nomprov','segmento']\n",
    "\n",
    "for col in columns:\n",
    "    cols = ['fecha_dato',col]\n",
    "    colors = [\"blue\", \"grey\", \"green\", \\\n",
    "              \"purple\", \"black\", \"tomato\", \"navy\", \"red\"]\n",
    "\n",
    "    df = pd.read_csv('../Data/Raw/sample_trn.csv', usecols=[col])\n",
    "    trn = pd.read_csv('../Data/Raw/train_ver2.csv', usecols=cols)\n",
    "    tst = pd.read_csv('../Data/Raw/test_ver2.csv', usecols=cols)\n",
    "\n",
    "    xs = trn['fecha_dato'].unique()\n",
    "\n",
    "    le = LabelEncoder()\n",
    "    y = le.fit_transform(list(trn[col].fillna('-1').values))\n",
    "    ys = np.zeros((len(le.classes_), len(xs)))\n",
    "    for ro in range(len(le.classes_)):\n",
    "        for co in range(len(xs)):\n",
    "            ys[ro][co] = (trn[(y == ro)]['fecha_dato'] == xs[co]).sum()\n",
    "\n",
    "    # stacked bar plot\n",
    "    print '='*50\n",
    "    print 'COLUMN: ', col\n",
    "    sns.set_style('white')\n",
    "    sns.set_context({'figure.figsize': (24,10)})\n",
    "    for i in range(ys.shape[0]):\n",
    "        plot = sns.barplot(x = xs, y=ys[i:,:].sum(axis=0), color = colors[i])\n",
    "    plt.legend([plt.Rectangle((0,0),1,1,fc=colors[i], edgecolor='none') for i in range(ys.shape[0])], \\\n",
    "               [le.classes_[i] for i in range(ys.shape[0])], loc=1, ncol=ys.shape[0], prop={'size':16})\n",
    "    plot.set_xlabel(col)\n",
    "    plot.set_ylabel('Count')\n",
    "    plot.set_title('Change in proportion of {}'.format(col))\n",
    "    #Set fonts to consistent 16pt size\n",
    "    for item in ([plot.xaxis.label, plot.yaxis.label] +\n",
    "                 plot.get_xticklabels() + plot.get_yticklabels()):\n",
    "        item.set_fontsize(16)\n",
    "    plt.savefig('../Fig/{}.png'.format(col))"
   ]
  },
  {
   "cell_type": "code",
   "execution_count": null,
   "metadata": {
    "collapsed": true
   },
   "outputs": [],
   "source": []
  }
 ],
 "metadata": {
  "kernelspec": {
   "display_name": "Python 2",
   "language": "python",
   "name": "python2"
  },
  "language_info": {
   "codemirror_mode": {
    "name": "ipython",
    "version": 2
   },
   "file_extension": ".py",
   "mimetype": "text/x-python",
   "name": "python",
   "nbconvert_exporter": "python",
   "pygments_lexer": "ipython2",
   "version": "2.7.6"
  }
 },
 "nbformat": 4,
 "nbformat_minor": 1
}
