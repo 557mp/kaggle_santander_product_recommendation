{
 "cells": [
  {
   "cell_type": "code",
   "execution_count": 1,
   "metadata": {
    "collapsed": true
   },
   "outputs": [],
   "source": [
    "from __future__ import division\n",
    "import numpy as np\n",
    "import pandas as pd\n",
    "\n",
    "path = '../Data/Clean/'"
   ]
  },
  {
   "cell_type": "code",
   "execution_count": 2,
   "metadata": {
    "collapsed": false
   },
   "outputs": [
    {
     "name": "stderr",
     "output_type": "stream",
     "text": [
      "/usr/local/lib/python2.7/dist-packages/IPython/core/interactiveshell.py:2717: DtypeWarning: Columns (11,15) have mixed types. Specify dtype option on import or set low_memory=False.\n",
      "  interactivity=interactivity, compiler=compiler, result=result)\n"
     ]
    }
   ],
   "source": [
    "trn = pd.read_csv(path+'train.csv')"
   ]
  },
  {
   "cell_type": "code",
   "execution_count": 3,
   "metadata": {
    "collapsed": false,
    "scrolled": false
   },
   "outputs": [
    {
     "name": "stderr",
     "output_type": "stream",
     "text": [
      "/usr/local/lib/python2.7/dist-packages/sklearn/cross_validation.py:43: DeprecationWarning: This module has been deprecated in favor of the model_selection module into which all the refactored classes and functions are moved. Also note that the interface of the new CV iterators are different from that of this module. This module will be removed in 0.20.\n",
      "  \"This module will be removed in 0.20.\", DeprecationWarning)\n"
     ]
    },
    {
     "name": "stdout",
     "output_type": "stream",
     "text": [
      "==================================================\n",
      "Split by Random\n",
      "==================================================\n",
      "Run 1\n",
      "Saved splitter pickle!\n"
     ]
    }
   ],
   "source": [
    "import pickle\n",
    "from sklearn.cross_validation import ShuffleSplit\n",
    "\n",
    "print \"=\"*50\n",
    "print \"Split by Random\"\n",
    "\n",
    "# trn : vld = 93.2 : 6.8\n",
    "n = trn.shape[0]\n",
    "ss = ShuffleSplit(n, n_iter=1, test_size=0.068, random_state=7)\n",
    "\n",
    "for run, (tid, vid) in enumerate(ss):\n",
    "    print \"=\"*50\n",
    "    print \"Run {}\".format(run+1)\n",
    "\n",
    "    # save as splitter\n",
    "    splitter = {'trn': tid, \n",
    "                'vld': vid}\n",
    "    fname = '../Data/Split/splitter_a.pkl'\n",
    "    pickle.dump(splitter, open(fname, 'wb'))\n",
    "    print \"Saved splitter pickle!\""
   ]
  },
  {
   "cell_type": "code",
   "execution_count": null,
   "metadata": {
    "collapsed": true
   },
   "outputs": [],
   "source": []
  },
  {
   "cell_type": "code",
   "execution_count": 13,
   "metadata": {
    "collapsed": false
   },
   "outputs": [
    {
     "name": "stdout",
     "output_type": "stream",
     "text": [
      "==================================================\n",
      "Split by Time (most recet 2016-05-28 as vld)\n",
      "Saved splitter pickle!\n"
     ]
    }
   ],
   "source": [
    "import pickle\n",
    "from sklearn.cross_validation import ShuffleSplit\n",
    "\n",
    "print \"=\"*50\n",
    "print \"Split by Time (most recet 2016-05-28 as vld)\"\n",
    "\n",
    "vid = sorted(list(trn[trn.fecha_dato == '2016-05-28'].index.values))\n",
    "tid = sorted(list(trn[trn.fecha_dato != '2016-05-28'].index.values))\n",
    "\n",
    "# save as splitter\n",
    "splitter = {'trn': tid, \n",
    "            'vld': vid}\n",
    "fname = '../Data/Split/splitter_b.pkl'\n",
    "pickle.dump(splitter, open(fname, 'wb'))\n",
    "print \"Saved splitter pickle!\""
   ]
  },
  {
   "cell_type": "code",
   "execution_count": null,
   "metadata": {
    "collapsed": true
   },
   "outputs": [],
   "source": []
  }
 ],
 "metadata": {
  "kernelspec": {
   "display_name": "Python 2",
   "language": "python",
   "name": "python2"
  },
  "language_info": {
   "codemirror_mode": {
    "name": "ipython",
    "version": 2
   },
   "file_extension": ".py",
   "mimetype": "text/x-python",
   "name": "python",
   "nbconvert_exporter": "python",
   "pygments_lexer": "ipython2",
   "version": "2.7.6"
  }
 },
 "nbformat": 4,
 "nbformat_minor": 1
}
