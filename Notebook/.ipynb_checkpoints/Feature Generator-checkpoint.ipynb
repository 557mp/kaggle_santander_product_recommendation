{
 "cells": [
  {
   "cell_type": "code",
   "execution_count": null,
   "metadata": {
    "collapsed": true
   },
   "outputs": [],
   "source": [
    "from __future__ import division\n",
    "import numpy as np\n",
    "import pandas as pd\n",
    "\n",
    "path = '../Data/Clean/'"
   ]
  },
  {
   "cell_type": "markdown",
   "metadata": {
    "collapsed": false,
    "scrolled": false
   },
   "source": [
    "### create feature set v_0\n",
    "    - onehot encoding\n",
    "    - label encoding"
   ]
  },
  {
   "cell_type": "code",
   "execution_count": null,
   "metadata": {
    "collapsed": false
   },
   "outputs": [],
   "source": [
    "trn = pd.read_csv(path+'train.csv')\n",
    "tst = pd.read_csv(path+'test.csv')"
   ]
  },
  {
   "cell_type": "code",
   "execution_count": null,
   "metadata": {
    "collapsed": true
   },
   "outputs": [],
   "source": [
    "FEATURES = ['fecha_dato','ind_empleado','pais_residencia','sexo','age','fecha_alta', \\\n",
    "            'ind_nuevo','antiguedad','indrel','ult_fec_cli_1t','indrel_1mes', \\\n",
    "            'tiprel_1mes','indresi','indext','conyuemp','canal_entrada','indfall', \\\n",
    "            'tipodom','cod_prov','nomprov','ind_actividad_cliente','renta','segmento']\n",
    "TARGETS = ['ind_ahor_fin_ult1','ind_aval_fin_ult1','ind_cco_fin_ult1', \\\n",
    "           'ind_cder_fin_ult1','ind_cno_fin_ult1','ind_ctju_fin_ult1', \\\n",
    "           'ind_ctma_fin_ult1','ind_ctop_fin_ult1','ind_ctpp_fin_ult1', \\\n",
    "           'ind_deco_fin_ult1','ind_deme_fin_ult1','ind_dela_fin_ult1', \\\n",
    "           'ind_ecue_fin_ult1','ind_fond_fin_ult1','ind_hip_fin_ult1', \\\n",
    "           'ind_plan_fin_ult1','ind_pres_fin_ult1','ind_reca_fin_ult1', \\\n",
    "           'ind_tjcr_fin_ult1','ind_valo_fin_ult1','ind_viv_fin_ult1', \\\n",
    "           'ind_nomina_ult1','ind_nom_pens_ult1','ind_recibo_ult1']"
   ]
  },
  {
   "cell_type": "code",
   "execution_count": null,
   "metadata": {
    "collapsed": false
   },
   "outputs": [],
   "source": [
    "# concat trn and tst data\n",
    "X = pd.concat([trn[FEATURES], tst[FEATURES]], axis=0)\n",
    "print X.shape"
   ]
  },
  {
   "cell_type": "code",
   "execution_count": null,
   "metadata": {
    "collapsed": false,
    "scrolled": false
   },
   "outputs": [],
   "source": [
    "from sklearn.preprocessing import LabelEncoder\n",
    "\n",
    "# date features\n",
    "# get distance between fecha_alta and fecha_dato\n",
    "print 'fecha_alta'\n",
    "col = 'fecha_alta'\n",
    "X['dist_bet_alta_dato'] = ((pd.to_datetime(X[col]) - pd.to_datetime(X['fecha_dato'])).dt.days).fillna(-1)\n",
    "X.drop(col, axis=1, inplace=True)\n",
    "\n",
    "# get distance between ult_fec_cli_lt and fecha_dato\n",
    "print 'ult_fec_cli_1t'\n",
    "col = 'ult_fec_cli_1t'\n",
    "X['dist_bet_cli_dato'] = ((pd.to_datetime(X[col]) - pd.to_datetime(X['fecha_dato'])).dt.days).fillna(0)\n",
    "X.drop(col, axis=1, inplace=True)\n",
    "\n",
    "# extract month from fecha_dato\n",
    "print 'fecha_dato'\n",
    "col = 'fecha_dato'\n",
    "X['fecha_dato_month'] = pd.to_datetime(X[col]).dt.month.copy()\n",
    "X.drop(col, axis=1, inplace=True)\n",
    "\n",
    "# label encode >> One hot encode features if necessary\n",
    "lb_cols = ['ind_empleado','pais_residencia','sexo', \\\n",
    "           'ind_nuevo','indrel_1mes','tiprel_1mes', \\\n",
    "           'indresi','indext','conyuemp','canal_entrada', \\\n",
    "           'indfall','tipodom','cod_prov','nomprov', \\\n",
    "           'ind_actividad_cliente','segmento']\n",
    "for col in lb_cols:\n",
    "    print col\n",
    "    lb = LabelEncoder()\n",
    "    lb.fit(set(np.unique(X[col])))\n",
    "    X[col] = lb.transform(X[col])\n",
    "           \n",
    "# as-is int features    \n",
    "int_cols = ['age', 'antiguedad', 'indrel', 'renta']\n",
    "for col in int_cols:\n",
    "    print col\n",
    "    X[col].fillna(-1, inplace=True)"
   ]
  },
  {
   "cell_type": "code",
   "execution_count": null,
   "metadata": {
    "collapsed": true
   },
   "outputs": [],
   "source": [
    "# split into "
   ]
  },
  {
   "cell_type": "code",
   "execution_count": null,
   "metadata": {
    "collapsed": true
   },
   "outputs": [],
   "source": [
    "\n",
    "\n",
    "X_trn, X_vld, y_trn, y_vld\n",
    "\n",
    "X_tst\n",
    "fit/predict\n",
    "\n",
    "eval"
   ]
  },
  {
   "cell_type": "code",
   "execution_count": null,
   "metadata": {
    "collapsed": true
   },
   "outputs": [],
   "source": []
  },
  {
   "cell_type": "code",
   "execution_count": null,
   "metadata": {
    "collapsed": false
   },
   "outputs": [],
   "source": [
    "X.shape"
   ]
  },
  {
   "cell_type": "code",
   "execution_count": null,
   "metadata": {
    "collapsed": true
   },
   "outputs": [],
   "source": []
  },
  {
   "cell_type": "code",
   "execution_count": null,
   "metadata": {
    "collapsed": true
   },
   "outputs": [],
   "source": []
  }
 ],
 "metadata": {
  "kernelspec": {
   "display_name": "Python 2",
   "language": "python",
   "name": "python2"
  },
  "language_info": {
   "codemirror_mode": {
    "name": "ipython",
    "version": 2
   },
   "file_extension": ".py",
   "mimetype": "text/x-python",
   "name": "python",
   "nbconvert_exporter": "python",
   "pygments_lexer": "ipython2",
   "version": "2.7.6"
  }
 },
 "nbformat": 4,
 "nbformat_minor": 1
}
