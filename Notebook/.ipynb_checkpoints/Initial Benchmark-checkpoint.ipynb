{
 "cells": [
  {
   "cell_type": "code",
   "execution_count": 1,
   "metadata": {
    "collapsed": true
   },
   "outputs": [],
   "source": [
    "from __future__ import division\n",
    "import numpy as np\n",
    "import pandas as pd\n",
    "\n",
    "path = '../Data/Clean/'"
   ]
  },
  {
   "cell_type": "code",
   "execution_count": 13,
   "metadata": {
    "collapsed": true
   },
   "outputs": [],
   "source": [
    "# will be imported from config in cmd script\n",
    "FEATURES = ['fecha_dato','ind_empleado','pais_residencia','sexo','age','fecha_alta', \\\n",
    "            'ind_nuevo','antiguedad','indrel','ult_fec_cli_1t','indrel_1mes', \\\n",
    "            'tiprel_1mes','indresi','indext','conyuemp','canal_entrada','indfall', \\\n",
    "            'tipodom','cod_prov','nomprov','ind_actividad_cliente','renta','segmento']\n",
    "TARGETS = ['ind_ahor_fin_ult1','ind_aval_fin_ult1','ind_cco_fin_ult1', \\\n",
    "           'ind_cder_fin_ult1','ind_cno_fin_ult1','ind_ctju_fin_ult1', \\\n",
    "           'ind_ctma_fin_ult1','ind_ctop_fin_ult1','ind_ctpp_fin_ult1', \\\n",
    "           'ind_deco_fin_ult1','ind_deme_fin_ult1','ind_dela_fin_ult1', \\\n",
    "           'ind_ecue_fin_ult1','ind_fond_fin_ult1','ind_hip_fin_ult1', \\\n",
    "           'ind_plan_fin_ult1','ind_pres_fin_ult1','ind_reca_fin_ult1', \\\n",
    "           'ind_tjcr_fin_ult1','ind_valo_fin_ult1','ind_viv_fin_ult1', \\\n",
    "           'ind_nomina_ult1','ind_nom_pens_ult1','ind_recibo_ult1']"
   ]
  },
  {
   "cell_type": "code",
   "execution_count": null,
   "metadata": {
    "collapsed": false,
    "scrolled": false
   },
   "outputs": [],
   "source": [
    "# data as is [01] Basic Feature\n",
    "\n",
    "# splitter\n",
    "\n",
    "# RandomForest fit/predict\n",
    "\n",
    "# MAP@7 evaluation"
   ]
  },
  {
   "cell_type": "code",
   "execution_count": 3,
   "metadata": {
    "collapsed": false
   },
   "outputs": [
    {
     "name": "stderr",
     "output_type": "stream",
     "text": [
      "/usr/local/lib/python2.7/dist-packages/IPython/core/interactiveshell.py:2717: DtypeWarning: Columns (11,15) have mixed types. Specify dtype option on import or set low_memory=False.\n",
      "  interactivity=interactivity, compiler=compiler, result=result)\n"
     ]
    }
   ],
   "source": [
    "df = pd.read_csv(path+'train.csv')"
   ]
  },
  {
   "cell_type": "code",
   "execution_count": 4,
   "metadata": {
    "collapsed": true
   },
   "outputs": [],
   "source": [
    "import pickle\n",
    "\n",
    "path = '../Data/Split/splitter_a.pkl'\n",
    "split = pickle.load(open(path,'rb'))"
   ]
  },
  {
   "cell_type": "code",
   "execution_count": 11,
   "metadata": {
    "collapsed": false
   },
   "outputs": [
    {
     "name": "stdout",
     "output_type": "stream",
     "text": [
      "(12719291, 48) (928018, 48)\n"
     ]
    }
   ],
   "source": [
    "trn = df.ix[split['trn']].copy()\n",
    "vld = df.ix[split['vld']].copy()\n",
    "\n",
    "print trn.shape, vld.shape"
   ]
  },
  {
   "cell_type": "code",
   "execution_count": 14,
   "metadata": {
    "collapsed": false
   },
   "outputs": [
    {
     "name": "stdout",
     "output_type": "stream",
     "text": [
      "(12719291, 23) (12719291, 24) (928018, 23) (928018, 24)\n"
     ]
    }
   ],
   "source": [
    "X_trn = trn[FEATURES]\n",
    "y_trn = trn[TARGETS]\n",
    "\n",
    "X_vld = vld[FEATURES]\n",
    "y_vld = vld[TARGETS]\n",
    "\n",
    "print X_trn.shape, y_trn.shape, X_vld.shape, y_vld.shape"
   ]
  },
  {
   "cell_type": "code",
   "execution_count": null,
   "metadata": {
    "collapsed": true
   },
   "outputs": [],
   "source": [
    "\n",
    "\n",
    "X_trn, X_vld, y_trn, y_vld\n",
    "\n",
    "X_tst\n",
    "fit/predict\n",
    "\n",
    "eval"
   ]
  },
  {
   "cell_type": "code",
   "execution_count": null,
   "metadata": {
    "collapsed": true
   },
   "outputs": [],
   "source": []
  },
  {
   "cell_type": "code",
   "execution_count": null,
   "metadata": {
    "collapsed": false
   },
   "outputs": [],
   "source": [
    "X.shape"
   ]
  },
  {
   "cell_type": "code",
   "execution_count": null,
   "metadata": {
    "collapsed": true
   },
   "outputs": [],
   "source": []
  },
  {
   "cell_type": "code",
   "execution_count": null,
   "metadata": {
    "collapsed": true
   },
   "outputs": [],
   "source": []
  }
 ],
 "metadata": {
  "kernelspec": {
   "display_name": "Python 2",
   "language": "python",
   "name": "python2"
  },
  "language_info": {
   "codemirror_mode": {
    "name": "ipython",
    "version": 2
   },
   "file_extension": ".py",
   "mimetype": "text/x-python",
   "name": "python",
   "nbconvert_exporter": "python",
   "pygments_lexer": "ipython2",
   "version": "2.7.6"
  }
 },
 "nbformat": 4,
 "nbformat_minor": 1
}
