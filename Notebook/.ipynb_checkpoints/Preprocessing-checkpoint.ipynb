{
 "cells": [
  {
   "cell_type": "code",
   "execution_count": null,
   "metadata": {
    "collapsed": false
   },
   "outputs": [],
   "source": [
    "\"\"\"\n",
    "@author: Kweonwoo Jung\n",
    "@brief: Preprocessing trn and tst data for reproducibility \n",
    "    - convert dtype from float to int (trn & tst)\n",
    "    - fillna with unique value (trn)\n",
    "    - convert ind_nomina_ult1, ind_nom_pens_ult1 to int\n",
    "\n",
    "* preserve raw data structure, only adjust dtypes/nan\n",
    "* clean_v0\n",
    "\"\"\""
   ]
  },
  {
   "cell_type": "code",
   "execution_count": null,
   "metadata": {
    "collapsed": true
   },
   "outputs": [],
   "source": [
    "from __future__ import division\n",
    "import numpy as np\n",
    "import pandas as pd\n",
    "\n",
    "path = '../Data/Raw/'"
   ]
  },
  {
   "cell_type": "code",
   "execution_count": null,
   "metadata": {
    "collapsed": false
   },
   "outputs": [],
   "source": [
    "ls ../Data/Raw"
   ]
  },
  {
   "cell_type": "code",
   "execution_count": null,
   "metadata": {
    "collapsed": false
   },
   "outputs": [],
   "source": [
    "trn = pd.read_csv(path+'train.csv')\n",
    "tst = pd.read_csv(path+'test.csv')\n",
    "\n",
    "# fillna to -1 and convert float to int\n",
    "cols = ['ncodpers','age','ind_nuevo','antiguedad', \\\n",
    "        'indrel','tipodom','ind_actividad_cliente']\n",
    "for col in cols:\n",
    "    trn[col] = trn[col].fillna(-1)\n",
    "    trn[col] = trn[col].astype(np.int)\n",
    "    tst[col] = tst[col].fillna(-1)\n",
    "    tst[col] = tst[col].astype(np.int)\n",
    "\n",
    "# indrel_1mes\n",
    "col = 'indrel_1mes'\n",
    "trn[col] = trn[col].replace(to_replace='P',value=5) \\\n",
    "              .fillna(-1).astype(np.float)\n",
    "tst[col] = tst[col].replace(to_replace='P',value=5) \\\n",
    "              .fillna(-1).astype(np.float)\n",
    "\n",
    "# cod_prov\n",
    "col = 'cod_prov'\n",
    "trn[col] = trn[col].fillna(-1).astype(np.int)\n",
    "tst[col] = tst[col].fillna(-1).astype(np.int)\n",
    "\n",
    "# renta\n",
    "col = 'renta'\n",
    "trn[col] = trn[col].fillna(-1).astype(np.int)\n",
    "tst[col] = tst[col].fillna(-1).astype(np.int)\n",
    "\n",
    "# conyuemp\n",
    "col = 'conyuemp'\n",
    "trn[col] = trn[col].fillna('X')\n",
    "tst[col] = tst[col].fillna('X')\n",
    "\n",
    "# convert target variables to int\n",
    "cols = ['ind_nomina_ult1','ind_nom_pens_ult1']\n",
    "for col in cols:\n",
    "    trn[col] = trn[col].fillna(0)\n",
    "    trn[col] = trn[col].astype(np.int)"
   ]
  },
  {
   "cell_type": "code",
   "execution_count": null,
   "metadata": {
    "collapsed": true
   },
   "outputs": [],
   "source": [
    "trn.to_csv('../Data/Clean/train_ver2.csv', sep='%', index=False)\n",
    "tst.to_csv('../Data/Clean/test_ver2.csv', sep='%', index=False)"
   ]
  },
  {
   "cell_type": "code",
   "execution_count": null,
   "metadata": {
    "collapsed": true
   },
   "outputs": [],
   "source": []
  }
 ],
 "metadata": {
  "kernelspec": {
   "display_name": "Python 2",
   "language": "python",
   "name": "python2"
  },
  "language_info": {
   "codemirror_mode": {
    "name": "ipython",
    "version": 2
   },
   "file_extension": ".py",
   "mimetype": "text/x-python",
   "name": "python",
   "nbconvert_exporter": "python",
   "pygments_lexer": "ipython2",
   "version": "2.7.6"
  }
 },
 "nbformat": 4,
 "nbformat_minor": 1
}
