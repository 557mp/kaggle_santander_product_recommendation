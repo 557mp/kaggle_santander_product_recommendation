{
 "cells": [
  {
   "cell_type": "code",
   "execution_count": 1,
   "metadata": {
    "collapsed": true
   },
   "outputs": [],
   "source": [
    "from __future__ import division\n",
    "import numpy as np\n",
    "import pandas as pd\n",
    "\n",
    "path = '../Data/Raw/'"
   ]
  },
  {
   "cell_type": "code",
   "execution_count": 2,
   "metadata": {
    "collapsed": false
   },
   "outputs": [
    {
     "name": "stdout",
     "output_type": "stream",
     "text": [
      "sample_submission.csv  test.csv  test_ver2.csv  train.csv  train_ver2.csv\r\n"
     ]
    }
   ],
   "source": [
    "ls ../Data/Raw"
   ]
  },
  {
   "cell_type": "code",
   "execution_count": 3,
   "metadata": {
    "collapsed": false
   },
   "outputs": [],
   "source": [
    "f = open('../Data/Raw/train_ver2.csv','r')\n",
    "first_line = f.readline().strip()\n",
    "first_line = first_line.replace('\"','')\n",
    "map_names = first_line.split(',')[24:]"
   ]
  },
  {
   "cell_type": "code",
   "execution_count": null,
   "metadata": {
    "collapsed": false
   },
   "outputs": [],
   "source": [
    "total = 0\n",
    "while 1:\n",
    "    line = f.readline()[:-1]\n",
    "    total += 1\n",
    "    \n",
    "    if line == '':\n",
    "        break\n",
    "        \n",
    "    tmp1 = line.split('\"')\n",
    "    arr = tmp1[0][:-1].split(',') + [tmp1[1]] + tmp1[2][1:].split(',')\n",
    "    arr = [a.strip() for a in arr]\n",
    "    if len(arr) != 48:\n",
    "        print 'Error: len(arr) = {} !!!! {}'.format(len(arr), line)\n",
    "        exit()\n",
    "\n",
    "    # Feature Engineer\n",
    "\n",
    "    if total % 1000000 == 0:\n",
    "        print('Process {} lines ...'.format(total))\n",
    "        LOG.info('Process {} lines ...'.format(total))\n",
    "        #break"
   ]
  },
  {
   "cell_type": "code",
   "execution_count": null,
   "metadata": {
    "collapsed": true
   },
   "outputs": [],
   "source": []
  },
  {
   "cell_type": "code",
   "execution_count": 4,
   "metadata": {
    "collapsed": true
   },
   "outputs": [],
   "source": [
    "line = f.readline()[:-1]"
   ]
  },
  {
   "cell_type": "code",
   "execution_count": 6,
   "metadata": {
    "collapsed": true
   },
   "outputs": [],
   "source": [
    "tmp1 = line.split('\"')\n",
    "arr = tmp1[0][:-1].split(',') + [tmp1[1]] + tmp1[2][1:].split(',')\n",
    "arr = [a.strip() for a in arr]"
   ]
  },
  {
   "cell_type": "code",
   "execution_count": null,
   "metadata": {
    "collapsed": true
   },
   "outputs": [],
   "source": [
    "# feature engineer\n",
    "\n"
   ]
  },
  {
   "cell_type": "code",
   "execution_count": 10,
   "metadata": {
    "collapsed": true
   },
   "outputs": [],
   "source": [
    "(fecha_dato, ncodpers, ind_empleado, pais_residencia, \\\n",
    "sexo, age, fecha_alta, ind_nuevo, antiguedad, indrel, \\\n",
    "ult_fec_cli_1t, indrel_1mes, tiprel_1mes, indresi, \\\n",
    "indext, conyuemp, canal_entrada, indfall, tipodom, \\\n",
    "cod_prov, nomprov, ind_actividad_cliente, renta, segmento) = arr[:24]"
   ]
  },
  {
   "cell_type": "code",
   "execution_count": null,
   "metadata": {
    "collapsed": true
   },
   "outputs": [],
   "source": []
  },
  {
   "cell_type": "code",
   "execution_count": 7,
   "metadata": {
    "collapsed": false
   },
   "outputs": [
    {
     "name": "stdout",
     "output_type": "stream",
     "text": [
      "['2015-01-28', '1375586', 'N', 'ES', 'H', '35', '2015-01-12', '0', '6', '1', '', '1.0', 'A', 'S', 'N', '', 'KHL', 'N', '1', '29', 'MALAGA', '1', '87218.1', '02 - PARTICULARES', '0', '0', '1', '0', '0', '0', '0', '0', '0', '0', '0', '0', '0', '0', '0', '0', '0', '0', '0', '0', '0', '0', '0', '0']\n"
     ]
    }
   ],
   "source": [
    "print arr"
   ]
  },
  {
   "cell_type": "code",
   "execution_count": 9,
   "metadata": {
    "collapsed": false
   },
   "outputs": [
    {
     "name": "stdout",
     "output_type": "stream",
     "text": [
      "['2015-01-28', '1375586', 'N', 'ES', 'H', '35', '2015-01-12', '0', '6', '1', '', '1.0', 'A', 'S', 'N', '', 'KHL', 'N', '1', '29', 'MALAGA', '1', '87218.1', '02 - PARTICULARES']\n"
     ]
    }
   ],
   "source": [
    "print arr[:24]"
   ]
  },
  {
   "cell_type": "code",
   "execution_count": null,
   "metadata": {
    "collapsed": true
   },
   "outputs": [],
   "source": []
  }
 ],
 "metadata": {
  "kernelspec": {
   "display_name": "Python 2",
   "language": "python",
   "name": "python2"
  },
  "language_info": {
   "codemirror_mode": {
    "name": "ipython",
    "version": 2
   },
   "file_extension": ".py",
   "mimetype": "text/x-python",
   "name": "python",
   "nbconvert_exporter": "python",
   "pygments_lexer": "ipython2",
   "version": "2.7.6"
  }
 },
 "nbformat": 4,
 "nbformat_minor": 1
}
