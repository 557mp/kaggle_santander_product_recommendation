{
 "cells": [
  {
   "cell_type": "code",
   "execution_count": 1,
   "metadata": {
    "collapsed": true
   },
   "outputs": [],
   "source": [
    "from __future__ import division\n",
    "import numpy as np\n",
    "import pandas as pd\n",
    "\n",
    "path = '../Data/Raw/'"
   ]
  },
  {
   "cell_type": "code",
   "execution_count": 2,
   "metadata": {
    "collapsed": false
   },
   "outputs": [
    {
     "name": "stdout",
     "output_type": "stream",
     "text": [
      "sample_submission.csv  test.csv  test_ver2.csv  train.csv  train_ver2.csv\r\n"
     ]
    }
   ],
   "source": [
    "ls ../Data/Raw"
   ]
  },
  {
   "cell_type": "code",
   "execution_count": 3,
   "metadata": {
    "collapsed": false
   },
   "outputs": [],
   "source": [
    "f = open('../Data/Raw/train_ver2.csv','r')\n",
    "first_line = f.readline().strip()\n",
    "first_line = first_line.replace('\"','')\n",
    "map_names = first_line.split(',')[24:]"
   ]
  },
  {
   "cell_type": "code",
   "execution_count": null,
   "metadata": {
    "collapsed": false
   },
   "outputs": [],
   "source": [
    "total = 0\n",
    "while 1:\n",
    "    line = f.readline()[:-1]\n",
    "    total += 1\n",
    "    \n",
    "    if line == '':\n",
    "        break\n",
    "        \n",
    "    tmp1 = line.split('\"')\n",
    "    arr = tmp1[0][:-1].split(',') + [tmp1[1]] + tmp1[2][1:].split(',')\n",
    "    arr = [a.strip() for a in arr]\n",
    "    if len(arr) != 48:\n",
    "        print 'Error: len(arr) = {} !!!! {}'.format(len(arr), line)\n",
    "        exit()\n",
    "\n",
    "    # Feature Engineer\n",
    "\n",
    "    if total % 1000000 == 0:\n",
    "        print('Process {} lines ...'.format(total))\n",
    "        LOG.info('Process {} lines ...'.format(total))\n",
    "        #break"
   ]
  },
  {
   "cell_type": "code",
   "execution_count": null,
   "metadata": {
    "collapsed": true
   },
   "outputs": [],
   "source": []
  },
  {
   "cell_type": "code",
   "execution_count": 4,
   "metadata": {
    "collapsed": true
   },
   "outputs": [],
   "source": [
    "line = f.readline()[:-1]"
   ]
  },
  {
   "cell_type": "code",
   "execution_count": 5,
   "metadata": {
    "collapsed": true
   },
   "outputs": [],
   "source": [
    "tmp1 = line.split('\"')\n",
    "arr = tmp1[0][:-1].split(',') + [tmp1[1]] + tmp1[2][1:].split(',')\n",
    "arr = [a.strip() for a in arr]"
   ]
  },
  {
   "cell_type": "code",
   "execution_count": 7,
   "metadata": {
    "collapsed": true
   },
   "outputs": [],
   "source": [
    "# feature engineer\n",
    "\n",
    "(fecha_dato, ncodpers, ind_empleado, pais_residencia, \\\n",
    "sexo, age, fecha_alta, ind_nuevo, antiguedad, indrel, \\\n",
    "ult_fec_cli_1t, indrel_1mes, tiprel_1mes, indresi, \\\n",
    "indext, conyuemp, canal_entrada, indfall, tipodom, \\\n",
    "cod_prov, nomprov, ind_actividad_cliente, renta, segmento, \\\n",
    "ahor, aval, cco, cder, cno, tju, ctma, ctop, ctpp, deco, \\\n",
    "deme, dela, ecue, fond, hip, plan, pres, reca, tjcr, valo, \\\n",
    "viv, nomina, nom_pens, recibo) = arr"
   ]
  },
  {
   "cell_type": "code",
   "execution_count": 12,
   "metadata": {
    "collapsed": false
   },
   "outputs": [],
   "source": [
    "# fecha_alto\n",
    "fecha_dato_y, fecha_dato_m, _ = fecha_dato.split('-')\n",
    "\n",
    "# ncodpers\n",
    "\n",
    "# ind_empleado\n",
    "n_ind_empleado = # number of unique ind_empleado this ncodpers had\n",
    "\n",
    "# count of na\n",
    "\n"
   ]
  },
  {
   "cell_type": "code",
   "execution_count": 13,
   "metadata": {
    "collapsed": false
   },
   "outputs": [
    {
     "name": "stdout",
     "output_type": "stream",
     "text": [
      "2015 01\n"
     ]
    }
   ],
   "source": [
    "print fecha_dato_y, fecha_dato_m"
   ]
  }
 ],
 "metadata": {
  "kernelspec": {
   "display_name": "Python 2",
   "language": "python",
   "name": "python2"
  },
  "language_info": {
   "codemirror_mode": {
    "name": "ipython",
    "version": 2
   },
   "file_extension": ".py",
   "mimetype": "text/x-python",
   "name": "python",
   "nbconvert_exporter": "python",
   "pygments_lexer": "ipython2",
   "version": "2.7.6"
  }
 },
 "nbformat": 4,
 "nbformat_minor": 1
}
