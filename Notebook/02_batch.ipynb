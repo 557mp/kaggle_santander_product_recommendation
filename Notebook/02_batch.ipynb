{
 "cells": [
  {
   "cell_type": "code",
   "execution_count": null,
   "metadata": {
    "collapsed": false
   },
   "outputs": [],
   "source": [
    "\"\"\"\n",
    "    this file trians (user, target) pair using neural net\n",
    "\"\"\""
   ]
  },
  {
   "cell_type": "code",
   "execution_count": null,
   "metadata": {
    "collapsed": true
   },
   "outputs": [],
   "source": [
    "f = open('../Data/Clean/xgb_vld_trn.csv','r')"
   ]
  },
  {
   "cell_type": "code",
   "execution_count": null,
   "metadata": {
    "collapsed": true
   },
   "outputs": [],
   "source": [
    "trn_data = []\n",
    "trn_labels = []\n",
    "count = 0\n",
    "while 1:\n",
    "    line = f.readline()[:-1]\n",
    "    \n",
    "    line = line.split(',')\n",
    "    datum = line[:464]\n",
    "    label = line[464:]\n",
    "    \n",
    "    trn_data.append(datum)\n",
    "    trn_labels.append(label)\n",
    "    \n",
    "    if len(trn_data) > 1000000:\n",
    "        break"
   ]
  },
  {
   "cell_type": "code",
   "execution_count": null,
   "metadata": {
    "collapsed": false
   },
   "outputs": [],
   "source": [
    "from sklearn.ensemble import RandomForestClassifier\n",
    "import numpy as np\n",
    "\n",
    "clf = RandomForestClassifier(n_jobs=-1)\n",
    "clf.fit(trn_data,trn_labels)"
   ]
  },
  {
   "cell_type": "code",
   "execution_count": null,
   "metadata": {
    "collapsed": true
   },
   "outputs": [],
   "source": [
    "vld_data = []\n",
    "vld_labels = []\n",
    "count = 0\n",
    "while 1:\n",
    "    line = f.readline()[:-1]\n",
    "    \n",
    "    line = line.split(',')\n",
    "    datum = line[:464]\n",
    "    label = line[464:]\n",
    "    \n",
    "    vld_data.append(datum)\n",
    "    vld_labels.append(label)\n",
    "    \n",
    "    if len(vld_data) > 1000:\n",
    "        break"
   ]
  },
  {
   "cell_type": "code",
   "execution_count": null,
   "metadata": {
    "collapsed": false
   },
   "outputs": [],
   "source": [
    "preds = clf.predict_proba(np.array(vld_data))"
   ]
  },
  {
   "cell_type": "code",
   "execution_count": null,
   "metadata": {
    "collapsed": true
   },
   "outputs": [],
   "source": [
    "def apk(actual, predicted, k=7):\n",
    "    if len(predicted) > k:\n",
    "        predicted = predicted[:k]\n",
    "\n",
    "    score = 0.0\n",
    "    num_hits = 0.0\n",
    "\n",
    "    for i, p in enumerate(predicted):\n",
    "        if p in actual and p not in predicted[:i]:\n",
    "            num_hits += 1.0\n",
    "            score += num_hits / (i+1.0)\n",
    "\n",
    "    if not actual:\n",
    "        return 0.0\n",
    "\n",
    "    return score / min(len(actual), k)"
   ]
  },
  {
   "cell_type": "code",
   "execution_count": null,
   "metadata": {
    "collapsed": false
   },
   "outputs": [],
   "source": [
    "def get_true_values(label):\n",
    "    true = []\n",
    "    for i, l in enumerate(label):\n",
    "        if l == '1':\n",
    "            true.append(i)\n",
    "    return true\n",
    "\n",
    "def get_pred_values(pred):\n",
    "    all = []\n",
    "    overallbest = [23,22,21,2,18,4,12,11,17,6,19,7,13,9,8,15,5,10,16,3,14,20,1,0]\n",
    "    for j in range(len(pred[0])):\n",
    "        l = []\n",
    "        for i in range(24):\n",
    "            try:\n",
    "                l.append(pred[j][i][1])\n",
    "            except:\n",
    "                l = overallbest[:7]\n",
    "        if sum(l) <= 0.3:\n",
    "            l = overallbest[:7]\n",
    "        if len(l) == 24:\n",
    "            l = sorted(range(len(l)), key=lambda k: l[k], reverse=True)[:7]\n",
    "        all.append(l)\n",
    "    return all"
   ]
  },
  {
   "cell_type": "code",
   "execution_count": null,
   "metadata": {
    "collapsed": false
   },
   "outputs": [],
   "source": [
    "map7 = 0\n",
    "for i in range(len(vld_labels)):\n",
    "    map7 += apk(get_true_values(vld_labels[i]),get_pred_values(preds)[i])\n",
    "print map7 / len(vld_labels)"
   ]
  },
  {
   "cell_type": "code",
   "execution_count": null,
   "metadata": {
    "collapsed": true
   },
   "outputs": [],
   "source": []
  },
  {
   "cell_type": "code",
   "execution_count": null,
   "metadata": {
    "collapsed": true
   },
   "outputs": [],
   "source": []
  },
  {
   "cell_type": "code",
   "execution_count": null,
   "metadata": {
    "collapsed": true
   },
   "outputs": [],
   "source": []
  },
  {
   "cell_type": "code",
   "execution_count": null,
   "metadata": {
    "collapsed": true
   },
   "outputs": [],
   "source": []
  },
  {
   "cell_type": "code",
   "execution_count": null,
   "metadata": {
    "collapsed": true
   },
   "outputs": [],
   "source": []
  }
 ],
 "metadata": {
  "kernelspec": {
   "display_name": "Python 2",
   "language": "python",
   "name": "python2"
  },
  "language_info": {
   "codemirror_mode": {
    "name": "ipython",
    "version": 2
   },
   "file_extension": ".py",
   "mimetype": "text/x-python",
   "name": "python",
   "nbconvert_exporter": "python",
   "pygments_lexer": "ipython2",
   "version": "2.7.6"
  }
 },
 "nbformat": 4,
 "nbformat_minor": 1
}
