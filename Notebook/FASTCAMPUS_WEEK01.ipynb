{
 "cells": [
  {
   "cell_type": "markdown",
   "metadata": {
    "collapsed": true
   },
   "source": [
    "## Kaggle Santander 실습\n",
    "\n",
    "\n",
    "\n",
    "### 내용\n",
    "1. 사용자(ncopders)기준으로 전체 데이터 중 1/1000 추출\n",
    "2. 탐색적 데이터 분석\n",
    "    \n",
    "    [1] 변수 & 라벨\n",
    "        - 데이터형 확인\n",
    "        - unique 데이터 확인\n",
    "        - 결측값 확인\n",
    "        - 최대, 최소, 평균 값 확인\n",
    "        - 막대그래프 시각화\n",
    "    [2] 변수 vs 라벨\n",
    "        - Scatterplot"
   ]
  },
  {
   "cell_type": "code",
   "execution_count": null,
   "metadata": {
    "collapsed": false
   },
   "outputs": [],
   "source": [
    "import pandas as pd\n",
    "import numpy as np\n",
    "from sklearn.preprocessing import LabelEncoder\n",
    "import matplotlib.pyplot as plt\n",
    "%matplotlib inline\n",
    "import time\n",
    "\n",
    "num_bars = 50"
   ]
  },
  {
   "cell_type": "code",
   "execution_count": null,
   "metadata": {
    "collapsed": false
   },
   "outputs": [],
   "source": [
    "st = time.time()\n",
    "print '='*num_bars\n",
    "print '# Begin Data Extraction from Kaggle Santander Full Dataset'\n",
    "print '-'*num_bars\n",
    "\n",
    "# ncodper list\n",
    "ncodper_list = ['1375586','1050611','1050612','1050613','1050614','1050615','1050616','1050617','1050619','1050620']\n",
    "\n",
    "#f_path = '../input/train_ver2.csv'\n",
    "f_path = '../Data/Raw/train_ver2.csv'\n",
    "g_path = '../Data/Raw/fastdata_sample.csv'\n",
    "\n",
    "f = open(f_path,'r')\n",
    "g = open(g_path,'w')\n",
    "col_names = f.readline()[:-1]\n",
    "g.write(col_names + '\\n')\n",
    "f_count = 0\n",
    "g_count = 0\n",
    "\n",
    "while 1:\n",
    "    # read single line, drop '\\n'\n",
    "    line = f.readline()[:-1]\n",
    "    f_count += 1\n",
    "    \n",
    "    # break if end of the file\n",
    "    if line == '':\n",
    "        break\n",
    "\n",
    "    # process input into variables\n",
    "    tmp1 = line.split('\"')\n",
    "    arr = tmp1[0][:-1].split(',') + [tmp1[1]] + tmp1[2][1:].split(',')\n",
    "    arr = [a.strip() for a in arr]        \n",
    "    (fecha_dato, ncodpers, ind_empleado, pais_residencia, \\\n",
    "    sexo, age, fecha_alta, ind_nuevo, antiguedad, indrel, \\\n",
    "    ult_fec_cli_1t, indrel_1mes, tiprel_1mes, indresi, \\\n",
    "    indext, conyuemp, canal_entrada, indfall, tipodom, \\\n",
    "    cod_prov, nomprov, ind_actividad_cliente, renta, segmento) = arr[:24]\n",
    "\n",
    "    # check ncodper in our list\n",
    "    if ncodpers in ncodper_list:\n",
    "        out = line + '\\n'\n",
    "        g.write(out)\n",
    "        g_count += 1\n",
    "    \n",
    "    if f_count % 1000 == 0:\n",
    "        print '  processing {} lines..'.format(f_count)\n",
    "f.close()\n",
    "g.close()\n",
    "en = time.time()\n",
    "\n",
    "print '-'*50\n",
    "print '# Total of {} lines scanned.'.format(f_count)\n",
    "print '# Total of {} ncodpers fetched.'.format(len(ncodper_list))\n",
    "print '# Total of {} lines retrieved and saved at {}'.format(g_count, g_path)\n",
    "print '# Total of {} seconds elapsed.'.format(int(en-st)) # 10 ncodpers list took 161 secs\n",
    "print '='*50"
   ]
  },
  {
   "cell_type": "code",
   "execution_count": null,
   "metadata": {
    "collapsed": true
   },
   "outputs": [],
   "source": [
    "g_path = '../Data/Raw/fastdata_sample.csv'"
   ]
  },
  {
   "cell_type": "code",
   "execution_count": null,
   "metadata": {
    "collapsed": false
   },
   "outputs": [],
   "source": [
    "print '='*num_bars\n",
    "\n",
    "# import dataframe\n",
    "df = pd.read_csv(g_path)\n",
    "\n",
    "# split dataframe into data and labels\n",
    "data = df.iloc[:,:24]\n",
    "labels = df.iloc[:,24:]\n",
    "print '# Display part of DATA'\n",
    "data.head()"
   ]
  },
  {
   "cell_type": "code",
   "execution_count": null,
   "metadata": {
    "collapsed": false
   },
   "outputs": [],
   "source": [
    "print '='*num_bars\n",
    "print '# Check Feature type [object, int64, float64]'\n",
    "print '-'*num_bars\n",
    "print data.info()\n",
    "print '='*num_bars"
   ]
  },
  {
   "cell_type": "code",
   "execution_count": null,
   "metadata": {
    "collapsed": false
   },
   "outputs": [],
   "source": [
    "print '='*num_bars\n",
    "print '# Define numerical columns for EDA'\n",
    "print '-'*num_bars\n",
    "numerical_cols = ['age', 'ind_nuevo', 'antiguedad', 'indrel', 'indrel_1mes', 'tipodom', \\\n",
    "                  'cod_prov', 'ind_actividad_cliente', 'renta']\n",
    "print numerical_cols\n",
    "print '='*num_bars"
   ]
  },
  {
   "cell_type": "code",
   "execution_count": null,
   "metadata": {
    "collapsed": false
   },
   "outputs": [],
   "source": [
    "print '='*num_bars\n",
    "print '# Check Unique values for each feature '\n",
    "print '-'*num_bars\n",
    "for col in data.columns:\n",
    "    print '  Feature Name:\\t\\t',col\n",
    "    print '  Num Unique:\\t\\t', len(data[col].unique())\n",
    "    print '  Unique values:\\t', data[col].unique()\n",
    "    print '-'*num_bars\n",
    "print '='*num_bars"
   ]
  },
  {
   "cell_type": "code",
   "execution_count": null,
   "metadata": {
    "collapsed": false
   },
   "outputs": [],
   "source": [
    "print '='*num_bars\n",
    "print '# Check NAs for each feature '\n",
    "print '-'*num_bars\n",
    "for col in data.columns:\n",
    "    print '  Feature Name:\\t\\t', col\n",
    "    print '  Count of NAs:\\t\\t', data[col].isnull().sum()\n",
    "    print '-'*num_bars\n",
    "print '='*num_bars"
   ]
  },
  {
   "cell_type": "code",
   "execution_count": null,
   "metadata": {
    "collapsed": false
   },
   "outputs": [],
   "source": [
    "print '='*num_bars\n",
    "print '# Check Statistics for each numerical feature '\n",
    "print '-'*num_bars\n",
    "data.describe()"
   ]
  },
  {
   "cell_type": "code",
   "execution_count": null,
   "metadata": {
    "collapsed": false,
    "scrolled": true
   },
   "outputs": [],
   "source": [
    "print '='*num_bars\n",
    "print '# Check Histogram for each numerical feature '\n",
    "print '-'*num_bars\n",
    "\n",
    "for col in numerical_cols:\n",
    "    fig = plt.figure()\n",
    "    ax = fig.add_subplot(111)\n",
    "\n",
    "    ax.set_xlabel(col)\n",
    "    ax.set_ylabel('Count')\n",
    "    ax.set_title('Histogram of {}'.format(col))\n",
    "\n",
    "    x = data[col].dropna(axis=0)\n",
    "    ax.hist(x,color='tomato',alpha=0.8)\n",
    "    plt.show()\n",
    "    print '-'*num_bars"
   ]
  },
  {
   "cell_type": "code",
   "execution_count": null,
   "metadata": {
    "collapsed": false,
    "scrolled": true
   },
   "outputs": [],
   "source": [
    "print '='*num_bars\n",
    "print '# Check Histogram for each categorical feature '\n",
    "print '-'*num_bars\n",
    "\n",
    "categorical_cols = [col for col in data.columns if col not in numerical_cols]\n",
    "\n",
    "for col in categorical_cols:\n",
    "    lb = LabelEncoder()\n",
    "    x = lb.fit_transform(data[col].dropna(axis=0))\n",
    "    plt.hist(x,color='tomato',alpha=0.8)\n",
    "\n",
    "    plt.ylabel('Count')\n",
    "    plt.title('Histogram of {}'.format(col))\n",
    "\n",
    "    plt.show()\n",
    "\n",
    "    print lb.classes_.tolist()    \n",
    "    print '-'*num_bars"
   ]
  },
  {
   "cell_type": "code",
   "execution_count": null,
   "metadata": {
    "collapsed": false
   },
   "outputs": [],
   "source": [
    "print '='*num_bars\n",
    "print '# Check histogram for target values'\n",
    "print '-'*num_bars\n",
    "\n",
    "x = labels.sum(axis=0).values\n",
    "plt.hist(x,color='tomato',alpha=0.8)\n",
    "plt.ylabel('Count')\n",
    "plt.title('Histogram of {}'.format('Targets'))\n",
    "plt.show()\n",
    "\n",
    "print labels.sum(axis=0)\n",
    "print '='*num_bars"
   ]
  },
  {
   "cell_type": "code",
   "execution_count": null,
   "metadata": {
    "collapsed": false,
    "scrolled": true
   },
   "outputs": [],
   "source": [
    "print '='*num_bars\n",
    "print '# Scatterplot with feature vs variable'\n",
    "print '-'*num_bars\n",
    "\n",
    "target = 'ind_cco_fin_ult1'\n",
    "for col in numerical_cols:\n",
    "    print '# {} vs {}'.format(col, target)\n",
    "    x = data[col].fillna(-1).values\n",
    "    y = labels[target].values\n",
    "    s = [0]*np.unique(x).shape[0]\n",
    "    for item in x:\n",
    "        s[np.unique(x).tolist().index(item)] += 1\n",
    "\n",
    "    plt.scatter(x, y, s=s, color='tomato')\n",
    "    plt.show()\n",
    "    print '-'*num_bars\n",
    "    \n",
    "print '='*num_bars"
   ]
  },
  {
   "cell_type": "markdown",
   "metadata": {
    "collapsed": true
   },
   "source": [
    "#### 데이터 이해를 위한 일반적인 시각화*\n",
    "\n",
    "### 시각적으로'만'이쁜 시각화\n",
    "\n",
    "## 숨겨진 데이터의 패턴을 보여주는 시각화*\n",
    "\n",
    "# 상대방을 설득시키기 위한 시각화"
   ]
  }
 ],
 "metadata": {
  "kernelspec": {
   "display_name": "Python 2",
   "language": "python",
   "name": "python2"
  },
  "language_info": {
   "codemirror_mode": {
    "name": "ipython",
    "version": 2
   },
   "file_extension": ".py",
   "mimetype": "text/x-python",
   "name": "python",
   "nbconvert_exporter": "python",
   "pygments_lexer": "ipython2",
   "version": "2.7.6"
  }
 },
 "nbformat": 4,
 "nbformat_minor": 1
}
