{
 "cells": [
  {
   "cell_type": "code",
   "execution_count": 2,
   "metadata": {
    "collapsed": true
   },
   "outputs": [],
   "source": [
    "from __future__ import division\n",
    "import numpy as np\n",
    "import pandas as pd\n",
    "\n",
    "path = '../Data/Clean/'"
   ]
  },
  {
   "cell_type": "code",
   "execution_count": 3,
   "metadata": {
    "collapsed": false
   },
   "outputs": [
    {
     "name": "stdout",
     "output_type": "stream",
     "text": [
      "test.csv  train.csv\r\n"
     ]
    }
   ],
   "source": [
    "ls ../Data/Clean"
   ]
  },
  {
   "cell_type": "code",
   "execution_count": 4,
   "metadata": {
    "collapsed": false
   },
   "outputs": [
    {
     "name": "stderr",
     "output_type": "stream",
     "text": [
      "/usr/local/lib/python2.7/dist-packages/IPython/core/interactiveshell.py:2717: DtypeWarning: Columns (11,15) have mixed types. Specify dtype option on import or set low_memory=False.\n",
      "  interactivity=interactivity, compiler=compiler, result=result)\n"
     ]
    }
   ],
   "source": [
    "trn = pd.read_csv(path+'train.csv')\n",
    "\n",
    "tst = pd.read_csv(path+'test.csv')"
   ]
  },
  {
   "cell_type": "code",
   "execution_count": null,
   "metadata": {
    "collapsed": false,
    "scrolled": false
   },
   "outputs": [],
   "source": [
    "print \"=\"*50\n",
    "print \"trn.info()\"\n",
    "print \"=\"*50\n",
    "print trn.info()\n",
    "\n",
    "print\n",
    "print \"=\"*50\n",
    "print \"Unique\"\n",
    "print \"=\"*50\n",
    "for col in trn.columns:\n",
    "    print \"{} : {}\".format(col, len(np.unique(trn[col])))\n",
    "    \n",
    "print\n",
    "print \"=\"*50\n",
    "print \"Head\"\n",
    "print \"=\"*50\n",
    "print trn.head()"
   ]
  },
  {
   "cell_type": "code",
   "execution_count": null,
   "metadata": {
    "collapsed": false
   },
   "outputs": [],
   "source": [
    "print \"=\"*50\n",
    "print \"tst.info()\"\n",
    "print \"=\"*50\n",
    "print tst.info()\n",
    "\n",
    "print\n",
    "print \"=\"*50\n",
    "print \"Unique\"\n",
    "print \"=\"*50\n",
    "for col in tst.columns:\n",
    "    print \"{} : {}\".format(col, len(np.unique(tst[col])))\n",
    "    \n",
    "print\n",
    "print \"=\"*50\n",
    "print \"Head\"\n",
    "print \"=\"*50\n",
    "print tst.head()"
   ]
  },
  {
   "cell_type": "code",
   "execution_count": null,
   "metadata": {
    "collapsed": false
   },
   "outputs": [],
   "source": [
    "print \"=\"*50\n",
    "print \"trn ~ tst\"\n",
    "\n",
    "## ncodpers\n",
    "print \"=\"*50\n",
    "print \"    ncodpers\"\n",
    "print \"=\"*50\n",
    "print \"    trn min: {}\\n    trn max: {}\".format(np.min(trn['ncodpers']), \\\n",
    "                                                np.max(trn['ncodpers']))\n",
    "print \"    tst min: {}\\n    tst max: {}\".format(np.min(tst['ncodpers']), \\\n",
    "                                                np.max(tst['ncodpers']))\n",
    "\n",
    "print \"=\"*50\n",
    "print \"    Intersection of ncodpers\"\n",
    "print \"=\"*50\n",
    "trn_did = set(np.unique(trn['ncodpers']))\n",
    "tst_did = set(np.unique(tst['ncodpers']))\n",
    "\n",
    "total_did = trn_did.union(tst_did)\n",
    "intersect_did = trn_did.intersection(tst_did)\n",
    "\n",
    "ratio_trn = ((len(trn_did) - len(intersect_did)) / len(total_did))\n",
    "ratio_tst = ((len(tst_did) - len(intersect_did)) / len(total_did))\n",
    "ratio_intersect = len(intersect_did) / len(total_did)\n",
    "\n",
    "print \"    ratio_trn : {}\".format(round(ratio_trn,2))\n",
    "print \"    ratio_tst : {}\".format(round(ratio_tst,2))\n",
    "print \"    ratio_intersect : {}\".format(round(ratio_intersect,2))"
   ]
  },
  {
   "cell_type": "code",
   "execution_count": null,
   "metadata": {
    "collapsed": true
   },
   "outputs": [],
   "source": []
  }
 ],
 "metadata": {
  "kernelspec": {
   "display_name": "Python 2",
   "language": "python",
   "name": "python2"
  },
  "language_info": {
   "codemirror_mode": {
    "name": "ipython",
    "version": 2
   },
   "file_extension": ".py",
   "mimetype": "text/x-python",
   "name": "python",
   "nbconvert_exporter": "python",
   "pygments_lexer": "ipython2",
   "version": "2.7.6"
  }
 },
 "nbformat": 4,
 "nbformat_minor": 1
}
